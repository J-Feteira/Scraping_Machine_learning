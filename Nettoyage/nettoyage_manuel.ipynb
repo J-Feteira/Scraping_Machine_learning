{
 "cells": [
  {
   "cell_type": "markdown",
   "id": "a651c047-17e1-43bc-92c2-84312449a936",
   "metadata": {},
   "source": [
    "# Import données"
   ]
  },
  {
   "cell_type": "code",
   "execution_count": 1,
   "id": "08a84a83-f1ac-454a-b224-637d484c882f",
   "metadata": {},
   "outputs": [],
   "source": [
    "import numpy as np\n",
    "import pandas as pd\n",
    "from typing import List"
   ]
  },
  {
   "cell_type": "code",
   "execution_count": 2,
   "id": "0b39d74a-e542-49e1-8d52-639555f9fa7e",
   "metadata": {},
   "outputs": [],
   "source": [
    "from serde import deserialize, serialize\n",
    "from serde.json import from_json\n",
    "from dataclasses import dataclass"
   ]
  },
  {
   "cell_type": "code",
   "execution_count": 3,
   "id": "b8d78fcc-bd37-48f9-9768-612a50238501",
   "metadata": {},
   "outputs": [],
   "source": [
    "import os"
   ]
  },
  {
   "cell_type": "code",
   "execution_count": 4,
   "id": "91a6a9b1-23bd-4956-a3be-da17ff948915",
   "metadata": {},
   "outputs": [],
   "source": [
    "path = os.path.dirname(os.getcwd())"
   ]
  },
  {
   "cell_type": "code",
   "execution_count": 5,
   "id": "e05732cd-7f8d-461e-afa3-73935019ac5b",
   "metadata": {},
   "outputs": [],
   "source": [
    "## ajouter [] pour faire une liste\n",
    "with open(path + \"\\Donnees\\data_complete_1.json\", \"r\") as fichier:\n",
    "    data_frame_1 = fichier.read()\n",
    "    \n",
    "with open(path + \"\\Donnees\\data_complete_2.json\", \"r\") as fichier:\n",
    "    data_frame_2 = fichier.read()"
   ]
  },
  {
   "cell_type": "code",
   "execution_count": 6,
   "id": "5dafaae6-62f6-4e32-8ce6-3e68c804c470",
   "metadata": {},
   "outputs": [],
   "source": [
    "@serialize\n",
    "@deserialize\n",
    "@dataclass\n",
    "class Annonce:\n",
    "    etat : str\n",
    "    marque : str\n",
    "    prix : str\n",
    "    serie : str\n",
    "    couleur : str\n",
    "    taille_ecran : str\n",
    "    capacite_stockage : str\n",
    "    modele : str\n",
    "    megapixel : str\n",
    "    systeme_exploitation : str\n",
    "    resolution_ecran : str\n",
    "    reseau : str\n",
    "    date_de_sortie : str\n",
    "    memoire : str\n",
    "    vitesse_processeur : str\n",
    "    nombre_coeur : str\n",
    "    connecteur : str\n",
    "    double_sim : str\n",
    "    port_carte_SD : str\n",
    "    pliable : str\n",
    "    reseau_5G : str\n",
    "    appareil_photo : str\n",
    "    poids : str\n",
    "    hauteur : str\n",
    "    largeur : str\n",
    "    profondeur : str\n",
    "    lien : str"
   ]
  },
  {
   "cell_type": "code",
   "execution_count": 7,
   "id": "eae8d8a6-f17f-471a-9c55-ef6c3de61f8c",
   "metadata": {},
   "outputs": [],
   "source": [
    "annonces_1 = from_json(List[Annonce], data_frame_1)\n",
    "annonces_2 = from_json(List[Annonce], data_frame_2)"
   ]
  },
  {
   "cell_type": "markdown",
   "id": "66de9417-1108-4a49-aad5-d1c62f15f70d",
   "metadata": {},
   "source": [
    "## Regroupement des bases"
   ]
  },
  {
   "cell_type": "code",
   "execution_count": 8,
   "id": "7aaa4124-45a6-49b1-bd93-4fbaf4b102fb",
   "metadata": {},
   "outputs": [],
   "source": [
    "data_1 = pd.DataFrame(annonces_1)\n",
    "data_2 = pd.DataFrame(annonces_2)"
   ]
  },
  {
   "cell_type": "code",
   "execution_count": 9,
   "id": "79e56b10-dd19-42b0-876b-317e56112ab0",
   "metadata": {},
   "outputs": [],
   "source": [
    "data = pd.concat([data_1, data_2], ignore_index=True)"
   ]
  },
  {
   "cell_type": "code",
   "execution_count": 10,
   "id": "26b08ac5-d75a-4617-b7e1-9cc48f0331d6",
   "metadata": {},
   "outputs": [],
   "source": [
    "## remove spaces at the beginning\n",
    "for i in range(0, data.shape[1]-1):\n",
    "    data.iloc[:,i] = data.iloc[:,i].str.replace(\"^ \", \"\", regex=True)"
   ]
  },
  {
   "cell_type": "code",
   "execution_count": 11,
   "id": "485341b5-1466-4455-86dc-6bc21415e2dd",
   "metadata": {},
   "outputs": [],
   "source": [
    "data = data.drop_duplicates(ignore_index=True)"
   ]
  },
  {
   "cell_type": "code",
   "execution_count": 12,
   "id": "502a2e30-05f8-4d2a-8ab6-7f8a33e764d2",
   "metadata": {},
   "outputs": [
    {
     "data": {
      "text/html": [
       "<div>\n",
       "<style scoped>\n",
       "    .dataframe tbody tr th:only-of-type {\n",
       "        vertical-align: middle;\n",
       "    }\n",
       "\n",
       "    .dataframe tbody tr th {\n",
       "        vertical-align: top;\n",
       "    }\n",
       "\n",
       "    .dataframe thead th {\n",
       "        text-align: right;\n",
       "    }\n",
       "</style>\n",
       "<table border=\"1\" class=\"dataframe\">\n",
       "  <thead>\n",
       "    <tr style=\"text-align: right;\">\n",
       "      <th></th>\n",
       "      <th>etat</th>\n",
       "      <th>marque</th>\n",
       "      <th>prix</th>\n",
       "      <th>serie</th>\n",
       "      <th>couleur</th>\n",
       "      <th>taille_ecran</th>\n",
       "      <th>capacite_stockage</th>\n",
       "      <th>modele</th>\n",
       "      <th>megapixel</th>\n",
       "      <th>systeme_exploitation</th>\n",
       "      <th>resolution_ecran</th>\n",
       "      <th>reseau</th>\n",
       "      <th>date_de_sortie</th>\n",
       "      <th>memoire</th>\n",
       "      <th>vitesse_processeur</th>\n",
       "    </tr>\n",
       "  </thead>\n",
       "  <tbody>\n",
       "    <tr>\n",
       "      <th>count</th>\n",
       "      <td>4375</td>\n",
       "      <td>4375</td>\n",
       "      <td>4375</td>\n",
       "      <td>4375</td>\n",
       "      <td>4375</td>\n",
       "      <td>4375</td>\n",
       "      <td>4375</td>\n",
       "      <td>4375</td>\n",
       "      <td>4375</td>\n",
       "      <td>4375</td>\n",
       "      <td>4375</td>\n",
       "      <td>4375</td>\n",
       "      <td>4375</td>\n",
       "      <td>4375</td>\n",
       "      <td>4375</td>\n",
       "    </tr>\n",
       "    <tr>\n",
       "      <th>unique</th>\n",
       "      <td>3</td>\n",
       "      <td>29</td>\n",
       "      <td>1028</td>\n",
       "      <td>56</td>\n",
       "      <td>65</td>\n",
       "      <td>53</td>\n",
       "      <td>9</td>\n",
       "      <td>311</td>\n",
       "      <td>26</td>\n",
       "      <td>5</td>\n",
       "      <td>108</td>\n",
       "      <td>5</td>\n",
       "      <td>87</td>\n",
       "      <td>12</td>\n",
       "      <td>44</td>\n",
       "    </tr>\n",
       "    <tr>\n",
       "      <th>top</th>\n",
       "      <td>Parfait état</td>\n",
       "      <td>Samsung</td>\n",
       "      <td>Déjà vendu</td>\n",
       "      <td></td>\n",
       "      <td>Noir</td>\n",
       "      <td>6,1</td>\n",
       "      <td>128 Go</td>\n",
       "      <td>iPhone 11</td>\n",
       "      <td>12</td>\n",
       "      <td>Android</td>\n",
       "      <td></td>\n",
       "      <td>4G</td>\n",
       "      <td>Octobre 2020</td>\n",
       "      <td>4 Go</td>\n",
       "      <td></td>\n",
       "    </tr>\n",
       "    <tr>\n",
       "      <th>freq</th>\n",
       "      <td>1490</td>\n",
       "      <td>1802</td>\n",
       "      <td>1136</td>\n",
       "      <td>1690</td>\n",
       "      <td>1369</td>\n",
       "      <td>576</td>\n",
       "      <td>1659</td>\n",
       "      <td>100</td>\n",
       "      <td>1800</td>\n",
       "      <td>3061</td>\n",
       "      <td>620</td>\n",
       "      <td>3354</td>\n",
       "      <td>325</td>\n",
       "      <td>1262</td>\n",
       "      <td>1788</td>\n",
       "    </tr>\n",
       "  </tbody>\n",
       "</table>\n",
       "</div>"
      ],
      "text/plain": [
       "                etat   marque        prix serie couleur taille_ecran  \\\n",
       "count           4375     4375        4375  4375    4375         4375   \n",
       "unique             3       29        1028    56      65           53   \n",
       "top     Parfait état  Samsung  Déjà vendu          Noir          6,1   \n",
       "freq            1490     1802        1136  1690    1369          576   \n",
       "\n",
       "       capacite_stockage     modele megapixel systeme_exploitation  \\\n",
       "count               4375       4375      4375                 4375   \n",
       "unique                 9        311        26                    5   \n",
       "top               128 Go  iPhone 11        12              Android   \n",
       "freq                1659        100      1800                 3061   \n",
       "\n",
       "       resolution_ecran reseau date_de_sortie memoire vitesse_processeur  \n",
       "count              4375   4375           4375    4375               4375  \n",
       "unique              108      5             87      12                 44  \n",
       "top                         4G   Octobre 2020    4 Go                     \n",
       "freq                620   3354            325    1262               1788  "
      ]
     },
     "execution_count": 12,
     "metadata": {},
     "output_type": "execute_result"
    }
   ],
   "source": [
    "data.describe().iloc[:,0:15]"
   ]
  },
  {
   "cell_type": "code",
   "execution_count": 13,
   "id": "1a0e811a-e6e0-4c81-8884-b8f7500634cb",
   "metadata": {},
   "outputs": [
    {
     "data": {
      "text/html": [
       "<div>\n",
       "<style scoped>\n",
       "    .dataframe tbody tr th:only-of-type {\n",
       "        vertical-align: middle;\n",
       "    }\n",
       "\n",
       "    .dataframe tbody tr th {\n",
       "        vertical-align: top;\n",
       "    }\n",
       "\n",
       "    .dataframe thead th {\n",
       "        text-align: right;\n",
       "    }\n",
       "</style>\n",
       "<table border=\"1\" class=\"dataframe\">\n",
       "  <thead>\n",
       "    <tr style=\"text-align: right;\">\n",
       "      <th></th>\n",
       "      <th>connecteur</th>\n",
       "      <th>double_sim</th>\n",
       "      <th>port_carte_SD</th>\n",
       "      <th>pliable</th>\n",
       "      <th>reseau_5G</th>\n",
       "      <th>appareil_photo</th>\n",
       "      <th>poids</th>\n",
       "      <th>hauteur</th>\n",
       "      <th>largeur</th>\n",
       "      <th>profondeur</th>\n",
       "      <th>lien</th>\n",
       "    </tr>\n",
       "  </thead>\n",
       "  <tbody>\n",
       "    <tr>\n",
       "      <th>count</th>\n",
       "      <td>4375</td>\n",
       "      <td>4375</td>\n",
       "      <td>4375</td>\n",
       "      <td>4375</td>\n",
       "      <td>4375</td>\n",
       "      <td>4375</td>\n",
       "      <td>4375</td>\n",
       "      <td>4375</td>\n",
       "      <td>4375</td>\n",
       "      <td>4375</td>\n",
       "      <td>4375</td>\n",
       "    </tr>\n",
       "    <tr>\n",
       "      <th>unique</th>\n",
       "      <td>7</td>\n",
       "      <td>2</td>\n",
       "      <td>3</td>\n",
       "      <td>3</td>\n",
       "      <td>1</td>\n",
       "      <td>6</td>\n",
       "      <td>107</td>\n",
       "      <td>72</td>\n",
       "      <td>59</td>\n",
       "      <td>40</td>\n",
       "      <td>1227</td>\n",
       "    </tr>\n",
       "    <tr>\n",
       "      <th>top</th>\n",
       "      <td>USB-C + Jack 3.5mm</td>\n",
       "      <td>Non</td>\n",
       "      <td>Oui</td>\n",
       "      <td>Non</td>\n",
       "      <td></td>\n",
       "      <td></td>\n",
       "      <td>194 g</td>\n",
       "      <td></td>\n",
       "      <td></td>\n",
       "      <td></td>\n",
       "      <td>https://www.backmarket.fr/oneplus-oneplus-8t-...</td>\n",
       "    </tr>\n",
       "    <tr>\n",
       "      <th>freq</th>\n",
       "      <td>1535</td>\n",
       "      <td>2764</td>\n",
       "      <td>2453</td>\n",
       "      <td>4299</td>\n",
       "      <td>4375</td>\n",
       "      <td>1665</td>\n",
       "      <td>204</td>\n",
       "      <td>3103</td>\n",
       "      <td>3103</td>\n",
       "      <td>3159</td>\n",
       "      <td>7</td>\n",
       "    </tr>\n",
       "  </tbody>\n",
       "</table>\n",
       "</div>"
      ],
      "text/plain": [
       "                connecteur double_sim port_carte_SD pliable reseau_5G  \\\n",
       "count                 4375       4375          4375    4375      4375   \n",
       "unique                   7          2             3       3         1   \n",
       "top     USB-C + Jack 3.5mm        Non           Oui     Non             \n",
       "freq                  1535       2764          2453    4299      4375   \n",
       "\n",
       "       appareil_photo  poids hauteur largeur profondeur  \\\n",
       "count            4375   4375    4375    4375       4375   \n",
       "unique              6    107      72      59         40   \n",
       "top                    194 g                              \n",
       "freq             1665    204    3103    3103       3159   \n",
       "\n",
       "                                                     lien  \n",
       "count                                                4375  \n",
       "unique                                               1227  \n",
       "top      https://www.backmarket.fr/oneplus-oneplus-8t-...  \n",
       "freq                                                    7  "
      ]
     },
     "execution_count": 13,
     "metadata": {},
     "output_type": "execute_result"
    }
   ],
   "source": [
    "data.describe().iloc[:,16:27]"
   ]
  },
  {
   "cell_type": "markdown",
   "id": "02f338dc-ed50-4774-a9fd-e2098c8980ea",
   "metadata": {},
   "source": [
    "## Etat"
   ]
  },
  {
   "cell_type": "code",
   "execution_count": 14,
   "id": "2f21ca95-2b43-4bd6-880a-d7afbf043e0e",
   "metadata": {},
   "outputs": [
    {
     "data": {
      "text/plain": [
       "array(['État correct', 'Très bon état', 'Parfait état'], dtype=object)"
      ]
     },
     "execution_count": 14,
     "metadata": {},
     "output_type": "execute_result"
    }
   ],
   "source": [
    "data[\"etat\"].unique()"
   ]
  },
  {
   "cell_type": "markdown",
   "id": "786c1a6a-a60a-40bc-984a-7a9ac99057cc",
   "metadata": {},
   "source": [
    "## Marques"
   ]
  },
  {
   "cell_type": "code",
   "execution_count": 15,
   "id": "13e25113-2785-45bb-bdde-b62d4617e58f",
   "metadata": {},
   "outputs": [],
   "source": [
    "data[\"marque\"] = data[\"marque\"].str.lower()"
   ]
  },
  {
   "cell_type": "code",
   "execution_count": 16,
   "id": "3f06d039-c117-4646-8574-fd8d36fdaff3",
   "metadata": {},
   "outputs": [],
   "source": [
    "data[\"marque\"] = data[\"marque\"].str.replace(\"croscall\", \"crosscall\").replace(\"xiaiomi\", \"xiaomi\")"
   ]
  },
  {
   "cell_type": "code",
   "execution_count": 17,
   "id": "fca87753-e621-4f6f-a0d4-5e89e604b748",
   "metadata": {
    "tags": []
   },
   "outputs": [
    {
     "data": {
      "text/plain": [
       "['asus',\n",
       " 'apple',\n",
       " 'samsung',\n",
       " 'huawei',\n",
       " 'google',\n",
       " 'oppo',\n",
       " 'xiaomi',\n",
       " 'sony',\n",
       " 'crosscall',\n",
       " 'm.t.t',\n",
       " 'oneplus',\n",
       " 'nokia',\n",
       " 'wiko',\n",
       " 'motorola',\n",
       " 'blackberry',\n",
       " 'doro',\n",
       " 'doogee',\n",
       " 'vivo',\n",
       " 'orange',\n",
       " 'realme',\n",
       " 'caterpillar',\n",
       " 'honor',\n",
       " 'alcatel']"
      ]
     },
     "execution_count": 17,
     "metadata": {},
     "output_type": "execute_result"
    }
   ],
   "source": [
    "list(data[\"marque\"].unique())"
   ]
  },
  {
   "cell_type": "markdown",
   "id": "c01a14ff-39d3-4b15-8662-c023d1d7b9cb",
   "metadata": {
    "tags": []
   },
   "source": [
    "## Prix"
   ]
  },
  {
   "cell_type": "markdown",
   "id": "3705dd95-4450-446d-91eb-1442b386a9f9",
   "metadata": {},
   "source": [
    "On enlève les smartphones déjà vendus :"
   ]
  },
  {
   "cell_type": "code",
   "execution_count": 18,
   "id": "a2e1428f-adb7-4884-ae17-9144e88eea2e",
   "metadata": {},
   "outputs": [],
   "source": [
    "data = data[data.prix != \"Déjà vendu\"]\n",
    "data = data.drop_duplicates(ignore_index=True)"
   ]
  },
  {
   "cell_type": "code",
   "execution_count": 19,
   "id": "245809e9-62e0-45db-a5cc-e4b6c6c7df25",
   "metadata": {},
   "outputs": [],
   "source": [
    "data.loc[:,\"prix\"] = data[\"prix\"].str.replace(\",\", \".\").replace(\"\\u20AC\", \"\", regex=True).replace(\"\\xa0\", \"\").replace(\"\\u202f1\", \"\", regex=True).replace(\"\\u202f0\", \"\", regex=True)\n",
    "data[\"prix\"] = data[\"prix\"].str.replace(\"\\u202f2\", \"\", regex=True).replace(\"\\u202f3\", \"\", regex=True).replace(\"\\u202f4\", \"\", regex=True).astype(\"float\")\n",
    "data = data.rename(columns={\"prix\":\"prix_euro\"})"
   ]
  },
  {
   "cell_type": "code",
   "execution_count": 20,
   "id": "2058c1a1-4175-4d28-abc3-60d65a69caef",
   "metadata": {
    "collapsed": true,
    "jupyter": {
     "outputs_hidden": true
    },
    "tags": []
   },
   "outputs": [
    {
     "data": {
      "text/plain": [
       "array([598.  , 201.  , 213.  , 263.  , 358.  , 379.  , 375.  , 354.  ,\n",
       "       382.  , 380.  , 507.  , 528.  , 549.  , 210.  , 232.  , 239.  ,\n",
       "       319.  , 335.  , 364.  , 204.  , 233.  , 368.8 , 389.  , 378.  ,\n",
       "       145.  , 155.  , 199.  , 386.  , 395.  , 488.  , 505.  , 240.  ,\n",
       "       404.  , 413.  , 536.  , 559.  , 615.  , 353.  , 419.  , 514.  ,\n",
       "       208.  , 207.  , 212.  , 336.  , 338.  , 345.  , 194.  , 193.  ,\n",
       "       195.  , 339.9 , 325.  , 318.  , 539.  , 529.  , 589.  , 621.  ,\n",
       "       673.  , 700.  , 404.8 , 424.  , 401.  , 235.  , 254.  , 211.  ,\n",
       "       680.  , 676.  , 750.  , 390.  , 436.  , 394.  , 487.  , 499.  ,\n",
       "       597.  , 641.  , 658.  , 260.  , 259.  , 359.  , 376.  , 384.  ,\n",
       "       115.  , 123.  , 299.99, 305.  , 377.  , 423.  , 430.  , 405.  ,\n",
       "       351.  , 172.84, 191.  , 602.04, 574.  , 595.  , 179.  , 230.  ,\n",
       "       406.  , 416.  , 308.  , 341.  , 269.  , 262.  ,  98.  , 429.  ,\n",
       "       399.  , 349.  , 289.  , 229.  , 245.  , 604.  , 611.  , 639.  ,\n",
       "       369.  , 392.  , 540.  , 555.  , 585.  , 417.  , 425.  , 415.  ,\n",
       "       315.  , 409.  , 165.  , 192.  , 173.  , 130.  , 165.39, 154.  ,\n",
       "       674.9 , 684.9 , 836.2 , 391.  , 280.  , 279.  , 309.  , 410.  ,\n",
       "       659.  , 690.  , 720.  , 714.  , 755.  , 580.  , 600.  , 705.  ,\n",
       "       769.  , 437.  , 509.  , 520.  , 381.99, 215.  , 366.  , 340.  ,\n",
       "       845.  , 895.  , 944.  , 654.  , 666.  , 719.  , 594.  , 605.  ,\n",
       "       618.  , 590.  , 296.  , 688.  , 867.  , 440.  , 442.  , 479.  ,\n",
       "       508.  , 371.  , 385.  , 452.  , 476.  , 486.  , 411.  , 470.  ,\n",
       "       535.  , 129.  , 108.99, 150.  , 311.  , 343.  , 707.  , 789.  ,\n",
       "       185.  , 178.  , 179.26, 768.  , 761.  , 805.  , 426.  , 427.  ,\n",
       "        85.  ,  96.  , 127.  , 162.  , 146.  , 185.99, 212.8 , 760.  ,\n",
       "       850.  , 200.  , 221.  , 249.  , 283.  , 228.  , 267.  , 668.  ,\n",
       "       645.  , 103.  , 122.  , 147.  , 715.  , 790.  , 843.  , 214.  ,\n",
       "       220.  , 502.  , 561.  , 209.  , 663.  , 725.  , 746.  , 523.  ,\n",
       "       517.  , 921.  , 149.  , 124.  , 238.  , 244.  , 250.  , 308.8 ,\n",
       "       327.  , 295.9 , 997.  , 969.  , 974.  , 296.8 , 316.  , 355.  ,\n",
       "       638.  , 679.  , 652.  , 205.  , 306.  , 275.  , 286.  , 299.  ,\n",
       "       198.  , 184.  , 619.  , 607.  , 655.  , 677.  , 681.  , 893.  ,\n",
       "       973.  ,  95.  ,  99.  , 159.  , 206.  , 339.  , 469.  , 519.  ,\n",
       "       189.  , 196.  , 169.  , 170.  , 181.  , 139.  , 647.  , 686.  ,\n",
       "       220.73, 799.24,  90.  , 141.  , 999.  , 107.  , 187.  , 300.  ,\n",
       "       198.32, 255.  , 231.  , 109.  , 894.  , 963.  , 993.  , 152.  ,\n",
       "       344.  , 264.  , 284.  ,  89.99, 489.  , 140.  , 672.  , 678.  ,\n",
       "       779.  , 190.  , 581.  , 610.  , 216.  , 248.  , 219.  , 225.  ,\n",
       "       640.  , 714.9 , 726.  , 166.  , 138.99, 285.  , 295.  , 330.  ,\n",
       "       160.  , 770.  , 740.  , 814.  , 207.64, 589.9 , 660.  , 752.84,\n",
       "       606.  , 135.  , 174.  , 158.  , 148.7 , 320.  , 356.8 , 454.  ,\n",
       "       764.  , 662.  , 337.  ,  69.99,  87.  , 459.  , 350.  , 849.  ,\n",
       "        75.  ,  79.  , 186.  , 180.  , 157.  , 120.  , 171.  , 251.  ,\n",
       "       119.  , 258.  , 288.  , 307.  , 177.  , 992.48, 894.9 , 931.  ,\n",
       "       202.  , 294.  , 559.9 , 650.  ,  89.  , 100.  , 118.  , 736.  ,\n",
       "       799.  , 872.  , 579.  , 176.  , 230.99, 197.  , 307.9 , 450.  ,\n",
       "       534.  , 175.  , 480.  , 510.  , 524.  , 298.  , 569.99, 352.  ,\n",
       "       462.  , 547.  , 475.  , 599.  , 648.  , 110.  , 991.  , 179.9 ,\n",
       "       125.  , 163.  , 248.79, 183.  , 227.  , 265.  , 481.  , 566.  ,\n",
       "       445.  , 489.9 , 612.  , 329.  , 326.  , 328.  , 131.  , 464.8 ,\n",
       "       399.99, 333.  , 236.  ,  83.  , 279.99, 312.  , 515.  , 243.  ,\n",
       "       236.79, 847.  , 918.  , 108.  , 500.  , 174.9 , 500.79, 159.99,\n",
       "       522.  , 537.  , 825.  , 800.  , 849.99, 939.  , 996.44,  97.75,\n",
       "       105.  , 151.  , 291.39, 722.  , 682.  , 140.8 , 137.  , 224.  ,\n",
       "       374.  , 393.8 , 312.04, 323.64, 346.08, 376.8 , 381.  ,  69.  ,\n",
       "       276.  , 389.99, 820.  , 830.  , 899.  , 298.99, 361.  , 347.  ,\n",
       "       173.99, 373.  , 571.9 , 241.99, 400.  , 420.  , 565.  , 557.  ,\n",
       "       491.  , 568.  , 356.  , 265.64, 253.  , 148.  , 365.  , 319.99,\n",
       "       346.  , 484.  , 953.  , 138.  , 290.  , 434.  ,  91.  , 136.  ,\n",
       "       620.  , 670.  , 310.  , 223.  , 665.  , 853.99, 980.  , 851.  ,\n",
       "       538.  , 699.  , 252.  , 511.  , 490.  , 369.99, 497.64, 552.  ,\n",
       "       569.  , 730.  , 554.  , 161.  , 339.99, 350.99, 321.  , 314.  ,\n",
       "        82.  , 282.  , 284.79, 234.  , 397.  ,  80.  ,  86.  , 169.99,\n",
       "       504.  , 103.99, 106.88, 296.34, 396.  , 501.  , 940.  , 106.  ,\n",
       "       840.  , 880.  , 126.  , 249.99, 198.99, 297.  , 277.  , 348.  ,\n",
       "       449.99, 473.  , 513.  , 109.9 , 121.45, 119.9 , 495.  , 525.  ,\n",
       "       584.79, 168.  , 218.9 , 190.99, 388.  , 416.9 , 398.  , 754.  ,\n",
       "       804.  , 261.  , 320.9 , 449.  , 627.  , 602.  , 749.9 , 810.84,\n",
       "       839.  , 135.64, 102.  , 217.  , 402.  , 527.  , 564.  , 649.  ,\n",
       "       669.  , 689.99, 271.  , 455.  , 458.9 ,  59.  , 182.  , 186.45,\n",
       "       249.95, 219.95, 272.79, 838.  , 855.  , 985.9 , 186.9 ,  63.  ,\n",
       "        74.  , 134.91, 256.  , 428.9 , 117.  , 150.99, 431.  , 468.  ,\n",
       "       542.  , 526.  , 532.  , 559.99, 222.  , 302.  , 466.  , 512.  ,\n",
       "       550.  , 673.9 , 114.  , 133.  , 301.  , 590.44, 518.  , 694.  ,\n",
       "       134.  , 111.  , 226.  , 447.  , 509.5 , 736.9 , 741.24, 860.  ,\n",
       "       870.  , 172.  , 213.9 , 242.  , 270.  , 463.  , 683.24, 446.  ,\n",
       "       903.  , 857.24, 956.  , 158.84,  76.  ,  97.  , 292.  , 543.  ,\n",
       "       533.  , 587.  , 749.  , 807.  , 915.24, 734.  , 826.  , 831.  ,\n",
       "       199.99, 259.99, 260.8 , 317.  , 520.84, 567.24, 620.79, 729.  ,\n",
       "       780.  , 819.  , 930.  , 116.  , 132.  ,  92.  , 203.  , 247.  ,\n",
       "       404.84, 363.  , 462.84, 224.79, 288.84, 451.  , 478.  , 675.  ,\n",
       "       875.  , 949.  , 916.  , 960.  , 208.99, 230.84, 344.79, 393.24,\n",
       "       464.  , 485.  , 532.44, 643.  , 880.44, 308.79, 218.  , 287.  ,\n",
       "       219.99, 413.9 , 616.  , 780.9 , 936.  , 196.45, 164.  , 316.45,\n",
       "       322.  , 360.  , 433.  , 900.  , 438.  , 694.84, 735.  , 822.44,\n",
       "       937.  , 950.  , 139.9 , 498.  , 483.  , 558.99, 640.1 , 818.  ,\n",
       "       862.  , 428.79, 740.79,  94.  , 190.9 , 272.8 , 278.  , 370.04,\n",
       "       413.28, 435.  , 848.79, 635.  , 609.  , 970.  ,  84.  , 121.  ,\n",
       "       324.  , 383.  , 546.  , 706.44, 799.99, 959.  , 942.  ,  61.  ,\n",
       "       125.99, 366.99, 370.  , 424.48, 474.44, 421.  , 451.24, 100.62,\n",
       "       104.  , 219.24, 269.99, 296.9 , 460.  , 332.  , 342.  , 492.  ,\n",
       "       599.99, 160.79, 106.45, 189.9 , 259.9 , 208.79, 245.9 , 560.79,\n",
       "       494.  , 664.  , 651.  ,  72.  , 136.45,  96.45, 141.82, 188.  ,\n",
       "       190.7 , 289.99, 272.  , 299.98, 233.9 , 551.  , 373.9 , 428.  ,\n",
       "       545.  , 387.  , 601.  , 368.  , 323.  , 465.  , 698.  , 412.  ,\n",
       "       338.1 , 372.  , 332.8 , 407.  , 649.9 , 357.  , 418.  , 679.9 ,\n",
       "       622.  , 745.  , 293.  , 689.  , 732.  , 723.  , 575.  , 593.  ,\n",
       "       656.  , 713.  , 837.  , 861.  , 889.  , 563.  , 865.  , 414.  ,\n",
       "       474.  , 448.  , 509.24, 313.  , 674.  , 696.  , 747.  , 156.  ,\n",
       "       753.  , 795.  , 854.  , 161.24, 628.  , 754.9 , 762.  , 834.  ,\n",
       "       556.  , 702.  , 871.  , 945.  , 553.  , 919.  , 972.  , 984.  ,\n",
       "       629.  , 304.  , 637.  , 695.  , 738.  , 444.  , 692.  , 719.99,\n",
       "       181.9 , 989.  , 904.  , 393.  , 506.  , 667.  , 767.  , 577.  ,\n",
       "       805.28, 798.  , 257.  , 291.  , 400.9 ,  68.  , 362.  , 965.  ,\n",
       "       458.  , 153.  , 270.99, 932.79, 883.99, 167.  , 630.  , 268.  ,\n",
       "       503.  , 285.2 , 519.7 , 642.  , 727.  , 634.  , 112.  , 237.  ,\n",
       "       846.  , 881.  , 968.  , 174.4 , 614.  , 572.  , 697.  , 766.  ,\n",
       "       292.99, 358.44, 782.  , 908.  ,  78.  , 497.  , 567.  , 710.  ,\n",
       "       368.79, 493.  , 947.7 , 978.99, 461.  , 583.  , 202.39, 555.64,\n",
       "       718.  , 586.  , 488.79, 476.8 , 832.  , 283.7 , 303.  , 134.99,\n",
       "       496.  , 457.  , 521.  , 687.  , 728.  , 480.9 , 758.99, 422.  ,\n",
       "       158.99, 556.9 , 815.  ,  88.  , 498.9 , 699.99, 703.  , 488.9 ,\n",
       "       333.99, 691.  , 144.  , 177.64, 716.79, 794.  , 315.99, 631.  ,\n",
       "       801.  , 786.  , 453.  , 499.99, 829.  , 926.  , 878.  , 914.  ,\n",
       "       170.9 , 380.79, 452.79, 558.  , 608.79, 636.  , 128.99, 297.99,\n",
       "       143.  , 456.  , 223.9 , 845.64, 879.  , 430.9 , 476.9 , 809.99,\n",
       "       769.9 , 927.9 , 962.9 , 477.  , 459.9 , 860.9 , 644.79, 787.  ,\n",
       "       866.  , 716.  , 808.99, 884.79, 307.99, 349.9 , 415.9 , 453.9 ,\n",
       "       541.  , 625.24, 588.  , 841.  , 428.04, 435.9 , 644.  , 617.  ,\n",
       "       869.99, 128.  , 189.24, 129.99, 239.99, 308.9 , 475.9 , 646.9 ,\n",
       "       653.19, 708.  ,  29.  ,  37.5 ,  39.  ,  49.  ])"
      ]
     },
     "execution_count": 20,
     "metadata": {},
     "output_type": "execute_result"
    }
   ],
   "source": [
    "data.prix_euro.unique()"
   ]
  },
  {
   "cell_type": "markdown",
   "id": "d1f76d5c-56fe-41ff-adef-e2fe2427ce12",
   "metadata": {},
   "source": [
    "## Série"
   ]
  },
  {
   "cell_type": "code",
   "execution_count": 21,
   "id": "5fd351bb-3cb5-4a7b-90f7-4b34ffef79b9",
   "metadata": {},
   "outputs": [],
   "source": [
    "data[\"serie\"] = data[\"serie\"].str.lower()"
   ]
  },
  {
   "cell_type": "code",
   "execution_count": 22,
   "id": "44cdc061-d295-411a-b6b0-11a67890f887",
   "metadata": {
    "collapsed": true,
    "jupyter": {
     "outputs_hidden": true
    },
    "tags": []
   },
   "outputs": [
    {
     "data": {
      "text/plain": [
       "['',\n",
       " '11t pro',\n",
       " 'find x',\n",
       " 'galaxy',\n",
       " 'galaxy a',\n",
       " 'galaxy a6',\n",
       " 'galaxy core',\n",
       " 'galaxy j',\n",
       " 'galaxy j6',\n",
       " 'galaxy j7',\n",
       " 'galaxy note',\n",
       " 'galaxy s',\n",
       " 'galaxy s3',\n",
       " 'galaxy s4',\n",
       " 'galaxy s5',\n",
       " 'galaxy s6',\n",
       " 'galaxy s8',\n",
       " 'galaxy s9',\n",
       " 'galaxy xcover',\n",
       " 'galaxy z',\n",
       " 'google pixel',\n",
       " 'google pixel 3',\n",
       " 'huawei mate',\n",
       " 'huawei p',\n",
       " 'huawei p smart',\n",
       " 'huawei p30',\n",
       " 'huawei p8',\n",
       " 'huawei p9',\n",
       " 'huawei y',\n",
       " 'iphone 11',\n",
       " 'iphone 12',\n",
       " 'iphone 13',\n",
       " 'iphone 6',\n",
       " 'iphone 7',\n",
       " 'iphone 8',\n",
       " 'iphone se',\n",
       " 'iphone x, xr, xs',\n",
       " 'motorola moto g',\n",
       " 'oneplus 5',\n",
       " 'oneplus 6',\n",
       " 'oneplus 7',\n",
       " 'p',\n",
       " 'p series',\n",
       " 'pixel',\n",
       " 'poco x',\n",
       " 'redmi',\n",
       " 'redmi note',\n",
       " 'xiaomi mi',\n",
       " 'xiaomi mi 9',\n",
       " 'xiaomi redmi note',\n",
       " 'xperia',\n",
       " 'xperia e',\n",
       " 'xperia l',\n",
       " 'xperia xa',\n",
       " 'xperia xz']"
      ]
     },
     "execution_count": 22,
     "metadata": {},
     "output_type": "execute_result"
    }
   ],
   "source": [
    "list(data[\"serie\"].sort_values().unique())"
   ]
  },
  {
   "cell_type": "markdown",
   "id": "c073c043-0df5-4be6-ac74-0857932de2c7",
   "metadata": {},
   "source": [
    "## Couleur"
   ]
  },
  {
   "cell_type": "code",
   "execution_count": 23,
   "id": "d3b7c12d-7814-4e76-9647-a4a1e141fd10",
   "metadata": {},
   "outputs": [],
   "source": [
    "data[\"couleur\"] = data[\"couleur\"].str.lower().replace(\"(product)red\", \"rouge\")"
   ]
  },
  {
   "cell_type": "code",
   "execution_count": 24,
   "id": "a36284af-b77a-4806-a8d9-731b1baeae51",
   "metadata": {
    "tags": []
   },
   "outputs": [
    {
     "data": {
      "text/plain": [
       "array(['argent', 'gris sidéral', 'noir', 'or', 'noir carbone', 'rouge',\n",
       "       'mauve', 'ultra violet', 'blanc', 'bleu corail', 'bleu', 'vert',\n",
       "       'vert nuit', 'corail', 'gris titane', 'bleu pacifique', 'or rose',\n",
       "       'jaune', 'graphite', 'or (sunrise gold)', 'gris orchidée', 'rose',\n",
       "       'bleu aurore', 'gris', 'noir de jais', 'nacré', 'bleu subtil',\n",
       "       'bourgogne', 'argent stellaire', 'noir prisme', 'violet',\n",
       "       'argent polaire', 'gris de minuit', 'rose pourpre', 'blanc prisme',\n",
       "       'gris cosmique', 'bronze', 'phantom black', 'argent givré',\n",
       "       'lavande', 'emeraude', 'twilight', 'minuit', 'azur',\n",
       "       'vert tropical', 'noir cosmique', 'blanc céramique',\n",
       "       'plus que blanc', 'noir/orange', 'vert prisme', 'beige', 'marron',\n",
       "       'bleu horizon', 'amande', 'orange', 'midgnight black', 'noir/bleu',\n",
       "       'cyan', 'noir/rouge', 'noir céramique', 'bleu argent',\n",
       "       'prism crush black', '', 'menthe'], dtype=object)"
      ]
     },
     "execution_count": 24,
     "metadata": {},
     "output_type": "execute_result"
    }
   ],
   "source": [
    "data[\"couleur\"].unique()"
   ]
  },
  {
   "cell_type": "markdown",
   "id": "a5be1972-4ca3-458c-aec5-820fd2d2e43b",
   "metadata": {},
   "source": [
    "## Taille écran"
   ]
  },
  {
   "cell_type": "code",
   "execution_count": 25,
   "id": "716661e1-af4b-4076-a36d-a12ca24f13d6",
   "metadata": {},
   "outputs": [],
   "source": [
    "data[\"taille_ecran\"] = data[\"taille_ecran\"].str.replace(\",\", \".\").astype(\"float\")\n",
    "data = data.rename(columns={\"taille_ecran\":\"taille_ecran_pouce\"})"
   ]
  },
  {
   "cell_type": "code",
   "execution_count": 26,
   "id": "357ee43a-6d68-4540-b973-c1e382139e31",
   "metadata": {},
   "outputs": [
    {
     "data": {
      "text/plain": [
       "array([5.9 , 4.7 , 6.1 , 5.8 , 6.2 , 6.4 , 5.5 , 4.  , 6.7 , 5.1 , 5.2 ,\n",
       "       6.5 , 5.4 , 6.15, 5.  , 5.6 , 4.5 , 6.  , 7.6 , 6.8 , 6.9 , 6.3 ,\n",
       "       5.84, 6.57, 6.53, 4.95, 6.55, 6.67, 5.7 , 6.6 , 6.58, 6.47, 6.44,\n",
       "       6.28, 6.39, 6.78, 6.81, 6.41, 6.21, 8.  , 6.43, 5.3 , 5.45, 5.99,\n",
       "       6.52, 6.26, 6.22, 4.3 , 7.3 , 6.09, 6.01, 4.2 , 2.4 ])"
      ]
     },
     "execution_count": 26,
     "metadata": {},
     "output_type": "execute_result"
    }
   ],
   "source": [
    "data[\"taille_ecran_pouce\"].unique()"
   ]
  },
  {
   "cell_type": "markdown",
   "id": "bdbf1300-8442-450b-8f19-e72964160b8f",
   "metadata": {},
   "source": [
    "## Capacité de stockage"
   ]
  },
  {
   "cell_type": "code",
   "execution_count": 27,
   "id": "4ae7e046-4f68-42bd-9029-687f39894dc7",
   "metadata": {},
   "outputs": [],
   "source": [
    "data = data.rename(columns={\"capacite_stockage\":\"capacite_stockage_Go\"})"
   ]
  },
  {
   "cell_type": "code",
   "execution_count": 28,
   "id": "8b27b5f3-db00-440f-9a99-10e61eb12d44",
   "metadata": {},
   "outputs": [],
   "source": [
    "data[\"capacite_stockage_Go\"] = data[\"capacite_stockage_Go\"].str.replace(\",\", \".\")\n",
    "data[\"capacite_stockage_Go\"] = data[\"capacite_stockage_Go\"].str.replace(\" Go\", \"\").astype(\"float\")"
   ]
  },
  {
   "cell_type": "code",
   "execution_count": 29,
   "id": "415a4f42-32c6-4fe8-8fc4-10f819175ed4",
   "metadata": {},
   "outputs": [
    {
     "data": {
      "text/plain": [
       "array([1.28e+02, 6.40e+01, 3.20e+01, 2.56e+02, 1.60e+01, 8.00e+00,\n",
       "       5.12e+02, 4.00e+00, 4.00e-03])"
      ]
     },
     "execution_count": 29,
     "metadata": {},
     "output_type": "execute_result"
    }
   ],
   "source": [
    "data[\"capacite_stockage_Go\"].unique()"
   ]
  },
  {
   "cell_type": "markdown",
   "id": "65ce7c3d-33de-4246-95ba-46a03f819d59",
   "metadata": {},
   "source": [
    "## Modèle"
   ]
  },
  {
   "cell_type": "code",
   "execution_count": 30,
   "id": "78bc0703-b725-4efe-a48f-e1a9065f3a94",
   "metadata": {},
   "outputs": [],
   "source": [
    "data[\"modele\"] = data[\"modele\"].str.replace(\"\\(\", \"\", regex=True).replace(\"\\)\", \"\", regex=True)\n",
    "data[\"modele\"] = data[\"modele\"].str.replace(\"\\+\", \" plus\", regex=True)"
   ]
  },
  {
   "cell_type": "code",
   "execution_count": 31,
   "id": "b3c3030d-8413-4f28-9f1b-88e1550c9a7d",
   "metadata": {},
   "outputs": [],
   "source": [
    "data[\"modele\"] = data[\"modele\"].str.lower()"
   ]
  },
  {
   "cell_type": "markdown",
   "id": "8774b627-5ead-41e8-a443-8c9278da0ce8",
   "metadata": {},
   "source": [
    "Lorsqu'il y a l'année, le téléphone est bien différent."
   ]
  },
  {
   "cell_type": "code",
   "execution_count": 24,
   "id": "ef8cb709-260c-4c9a-b1c3-88331a60547f",
   "metadata": {
    "collapsed": true,
    "jupyter": {
     "outputs_hidden": true
    },
    "tags": []
   },
   "outputs": [
    {
     "data": {
      "text/plain": [
       "['ASUS Smartphone Zenfone 8 Silver 128 Go 5G',\n",
       " 'Alcatel 2053D',\n",
       " 'BlackBerry Leap',\n",
       " 'Caterpillar S30',\n",
       " 'Crosscall Action X3',\n",
       " 'Crosscall Core M4',\n",
       " 'Crosscall Core X3',\n",
       " 'Crosscall Core X4',\n",
       " 'Crosscall Trekker M1 Core',\n",
       " 'Crosscall Trekker X3',\n",
       " 'Crosscall Trekker X4',\n",
       " 'Doogee S96 Pro',\n",
       " 'Doro 8042',\n",
       " 'Galaxy A01 Core',\n",
       " 'Galaxy A02',\n",
       " 'Galaxy A02S',\n",
       " 'Galaxy A03S',\n",
       " 'Galaxy A03s',\n",
       " 'Galaxy A10',\n",
       " 'Galaxy A10S',\n",
       " 'Galaxy A12',\n",
       " 'Galaxy A20',\n",
       " 'Galaxy A20E',\n",
       " 'Galaxy A20e',\n",
       " 'Galaxy A21S',\n",
       " 'Galaxy A22',\n",
       " 'Galaxy A22 5G',\n",
       " 'Galaxy A3',\n",
       " 'Galaxy A3 2014',\n",
       " 'Galaxy A3 2015',\n",
       " 'Galaxy A3 2016',\n",
       " 'Galaxy A3 2017',\n",
       " 'Galaxy A30s',\n",
       " 'Galaxy A32',\n",
       " 'Galaxy A32 5G',\n",
       " 'Galaxy A40',\n",
       " 'Galaxy A41',\n",
       " 'Galaxy A42 5G',\n",
       " 'Galaxy A5 2015',\n",
       " 'Galaxy A5 2016',\n",
       " 'Galaxy A5 2017',\n",
       " 'Galaxy A50',\n",
       " 'Galaxy A51',\n",
       " 'Galaxy A51 5G',\n",
       " 'Galaxy A52',\n",
       " 'Galaxy A52 5G',\n",
       " 'Galaxy A52S 5G',\n",
       " 'Galaxy A52s',\n",
       " 'Galaxy A52s 5G',\n",
       " 'Galaxy A6',\n",
       " 'Galaxy A6 2018',\n",
       " 'Galaxy A6 Plus 2018',\n",
       " 'Galaxy A7',\n",
       " 'Galaxy A7 2018',\n",
       " 'Galaxy A70',\n",
       " 'Galaxy A71',\n",
       " 'Galaxy A8',\n",
       " 'Galaxy A8 2018',\n",
       " 'Galaxy A80',\n",
       " 'Galaxy A90 5G',\n",
       " 'Galaxy Core Prime',\n",
       " 'Galaxy Fold',\n",
       " 'Galaxy J3 2016',\n",
       " 'Galaxy J3 2017',\n",
       " 'Galaxy J4plus',\n",
       " 'Galaxy J5 2016',\n",
       " 'Galaxy J5 2017',\n",
       " 'Galaxy J6',\n",
       " 'Galaxy J6plus',\n",
       " 'Galaxy J7 2017',\n",
       " 'Galaxy Note 4',\n",
       " 'Galaxy Note 8',\n",
       " 'Galaxy Note 9',\n",
       " 'Galaxy Note10',\n",
       " 'Galaxy Note10 Lite',\n",
       " 'Galaxy Note10 Plus',\n",
       " 'Galaxy Note10plus',\n",
       " 'Galaxy Note10plus 5G',\n",
       " 'Galaxy Note20',\n",
       " 'Galaxy Note20 5G',\n",
       " 'Galaxy Note20 Ultra 5G',\n",
       " 'Galaxy S10',\n",
       " 'Galaxy S10 5G',\n",
       " 'Galaxy S10 Lite',\n",
       " 'Galaxy S10 Plus',\n",
       " 'Galaxy S10E',\n",
       " 'Galaxy S10e',\n",
       " 'Galaxy S10plus',\n",
       " 'Galaxy S20',\n",
       " 'Galaxy S20 5G',\n",
       " 'Galaxy S20 FE',\n",
       " 'Galaxy S20 FE 5G',\n",
       " 'Galaxy S20 Ultra',\n",
       " 'Galaxy S20 Ultra 5G',\n",
       " 'Galaxy S20plus',\n",
       " 'Galaxy S20plus 5G',\n",
       " 'Galaxy S21 5G',\n",
       " 'Galaxy S21 Ultra 5G',\n",
       " 'Galaxy S21plus 5G',\n",
       " 'Galaxy S3 Mini',\n",
       " 'Galaxy S4 I9505',\n",
       " 'Galaxy S4 Mini',\n",
       " 'Galaxy S5',\n",
       " 'Galaxy S5 Mini',\n",
       " 'Galaxy S5 Neo',\n",
       " 'Galaxy S6',\n",
       " 'Galaxy S6 Edge',\n",
       " 'Galaxy S7',\n",
       " 'Galaxy S7 Edge',\n",
       " 'Galaxy S8',\n",
       " 'Galaxy S8 Plus',\n",
       " 'Galaxy S8plus',\n",
       " 'Galaxy S9',\n",
       " 'Galaxy S9 Plus',\n",
       " 'Galaxy S9plus',\n",
       " 'Galaxy Trend Lite',\n",
       " 'Galaxy XCover 4',\n",
       " 'Galaxy XCover 4S',\n",
       " 'Galaxy Xcover 3',\n",
       " 'Galaxy Xcover 3 G389F',\n",
       " 'Galaxy Xcover 3 VE',\n",
       " 'Galaxy Xcover 4',\n",
       " 'Galaxy Xcover Pro',\n",
       " 'Galaxy Z Flip',\n",
       " 'Galaxy Z Flip 5G',\n",
       " 'Galaxy Z Flip3',\n",
       " 'Galaxy Z Flip3 5G',\n",
       " 'Galaxy Z Fold2 5G',\n",
       " 'Galaxy Z Fold3 5G',\n",
       " 'Google Pixel 2',\n",
       " 'Google Pixel 3',\n",
       " 'Google Pixel 3 XL',\n",
       " 'Google Pixel 3A',\n",
       " 'Google Pixel 3a',\n",
       " 'Google Pixel 3a XL',\n",
       " 'Google Pixel 4',\n",
       " 'Google Pixel 4 XL',\n",
       " 'Google Pixel 4A 5G',\n",
       " 'Google Pixel 5',\n",
       " 'Google Pixel 6',\n",
       " 'Honor 8X',\n",
       " 'Huawei Honor 8',\n",
       " 'Huawei Honor 8X',\n",
       " 'Huawei Mate 10 Lite',\n",
       " 'Huawei Mate 20',\n",
       " 'Huawei Mate 20 Lite',\n",
       " 'Huawei Mate 20 Pro',\n",
       " 'Huawei Mate 40 Pro',\n",
       " 'Huawei Mate 9',\n",
       " 'Huawei Nova 5T',\n",
       " 'Huawei P Smart',\n",
       " 'Huawei P Smart 2017',\n",
       " 'Huawei P Smart 2019',\n",
       " 'Huawei P Smart 2020',\n",
       " 'Huawei P Smart 2021',\n",
       " 'Huawei P10',\n",
       " 'Huawei P10 Lite',\n",
       " 'Huawei P20',\n",
       " 'Huawei P20 Lite',\n",
       " 'Huawei P20 Pro',\n",
       " 'Huawei P20 lite',\n",
       " 'Huawei P30',\n",
       " 'Huawei P30 Lite',\n",
       " 'Huawei P30 Lite Premium',\n",
       " 'Huawei P30 Pro',\n",
       " 'Huawei P30 lite',\n",
       " 'Huawei P40',\n",
       " 'Huawei P40 Lite',\n",
       " 'Huawei P40 Lite 5G',\n",
       " 'Huawei P40 Pro',\n",
       " 'Huawei P40 lite E',\n",
       " 'Huawei P8 Lite',\n",
       " 'Huawei P8 Lite 2015',\n",
       " 'Huawei P8 Lite 2017',\n",
       " 'Huawei P9',\n",
       " 'Huawei P9 Lite',\n",
       " 'Huawei Psmart 2021',\n",
       " 'Huawei Y5p',\n",
       " 'Huawei Y6 2017',\n",
       " 'Huawei Y6 2018',\n",
       " 'Huawei Y6 2019',\n",
       " 'Huawei Y6p',\n",
       " 'Huawei Y7 2018',\n",
       " 'MTT Ideal',\n",
       " 'Motorola Moto E6 Plus',\n",
       " 'Motorola Moto E6s 2020',\n",
       " 'Motorola Moto G5',\n",
       " 'Motorola Moto G7 Play',\n",
       " 'Motorola Moto G8 Power',\n",
       " 'Nokia 3',\n",
       " 'Nokia 5.1',\n",
       " 'Nokia 5.3',\n",
       " 'Nokia 6',\n",
       " 'Nokia 6.1',\n",
       " 'Nokia 6.2',\n",
       " 'Nokia 8.3 5G',\n",
       " 'One Touch',\n",
       " 'OnePlus 5',\n",
       " 'OnePlus 6',\n",
       " 'OnePlus 6T',\n",
       " 'OnePlus 7',\n",
       " 'OnePlus 7 Pro',\n",
       " 'OnePlus 7 pro',\n",
       " 'OnePlus 7T',\n",
       " 'OnePlus 7T Pro',\n",
       " 'OnePlus 8',\n",
       " 'OnePlus 8 Pro',\n",
       " 'OnePlus 8T',\n",
       " 'OnePlus Nord',\n",
       " 'OnePlus Nord N100',\n",
       " 'Oneplus 5T',\n",
       " 'Oppo A15',\n",
       " 'Oppo A16S',\n",
       " 'Oppo A5 2020',\n",
       " 'Oppo A53s',\n",
       " 'Oppo A54 5G',\n",
       " 'Oppo A72',\n",
       " 'Oppo A91',\n",
       " 'Oppo A94 5G',\n",
       " 'Oppo Find X2 Lite',\n",
       " 'Oppo Find X2 Neo',\n",
       " 'Oppo Find X3 Lite',\n",
       " 'Oppo Find X3 Neo',\n",
       " 'Oppo Find X3 Pro',\n",
       " 'Oppo Find x2 Pro',\n",
       " 'Oppo Reno 2Z',\n",
       " 'Oppo Reno2',\n",
       " 'Oppo Reno4',\n",
       " 'Oppo Reno4 Pro 5G',\n",
       " 'Oppo Reno4 Z 5G',\n",
       " 'Oppo Reno6 5G',\n",
       " 'Orange Rise 51',\n",
       " 'Orange Rise 52',\n",
       " 'Realme 8',\n",
       " 'Redmi 10',\n",
       " 'Redmi Note 9',\n",
       " 'Samsung Galaxy XCover 5',\n",
       " 'Sony Xperia 1 II',\n",
       " 'Sony Xperia 10',\n",
       " 'Sony Xperia 10 II',\n",
       " 'Sony Xperia 5',\n",
       " 'Sony Xperia E4g',\n",
       " 'Sony Xperia E5',\n",
       " 'Sony Xperia L1',\n",
       " 'Sony Xperia X',\n",
       " 'Sony Xperia XA1',\n",
       " 'Sony Xperia XA2',\n",
       " 'Sony Xperia XZ',\n",
       " 'Sony Xperia XZ Premium',\n",
       " 'Sony Xperia XZ2',\n",
       " 'Sony Xperia XZ2 Compact',\n",
       " 'Sony Xperia XZ3',\n",
       " 'Wiko Tommy2',\n",
       " 'Xiaomi 11T',\n",
       " 'Xiaomi 11T Pro',\n",
       " 'Xiaomi Mi 10 5G',\n",
       " 'Xiaomi Mi 10 Lite 5G',\n",
       " 'Xiaomi Mi 10T 5G',\n",
       " 'Xiaomi Mi 10T Lite 5G',\n",
       " 'Xiaomi Mi 10T Pro 5G',\n",
       " 'Xiaomi Mi 11',\n",
       " 'Xiaomi Mi 11 Lite',\n",
       " 'Xiaomi Mi 11 Lite 5G',\n",
       " 'Xiaomi Mi 11i',\n",
       " 'Xiaomi Mi 9',\n",
       " 'Xiaomi Mi 9 SE',\n",
       " 'Xiaomi Mi A3',\n",
       " 'Xiaomi Mi Mix 2S',\n",
       " 'Xiaomi Mi Note 10',\n",
       " 'Xiaomi Mi Note 10 Lite',\n",
       " 'Xiaomi Poco F3',\n",
       " 'Xiaomi Poco X3 Pro',\n",
       " 'Xiaomi Redmi 9A',\n",
       " 'Xiaomi Redmi 9AT',\n",
       " 'Xiaomi Redmi 9C',\n",
       " 'Xiaomi Redmi 9T',\n",
       " 'Xiaomi Redmi Note 10 5G',\n",
       " 'Xiaomi Redmi Note 10 Pro',\n",
       " 'Xiaomi Redmi Note 7',\n",
       " 'Xiaomi Redmi Note 8 Pro',\n",
       " 'Xiaomi Redmi Note 9',\n",
       " 'Xiaomi Redmi Note 9 Pro',\n",
       " 'Xiaomi Redmi Note 9 Pro India',\n",
       " 'Xiaomi Redmi Note 9S',\n",
       " 'Xiaomi Redmi Note 9T',\n",
       " 'Xperia 10',\n",
       " 'Xperia XZ1',\n",
       " 'Xperia XZ2',\n",
       " 'Y6 2019',\n",
       " 'iPhone 11',\n",
       " 'iPhone 11 Pro',\n",
       " 'iPhone 11 Pro Max',\n",
       " 'iPhone 12',\n",
       " 'iPhone 12 Pro',\n",
       " 'iPhone 12 Pro Max',\n",
       " 'iPhone 12 mini',\n",
       " 'iPhone 13',\n",
       " 'iPhone 6S',\n",
       " 'iPhone 6S Plus',\n",
       " 'iPhone 7',\n",
       " 'iPhone 7 Plus',\n",
       " 'iPhone 8',\n",
       " 'iPhone 8 Plus',\n",
       " 'iPhone SE',\n",
       " 'iPhone SE 2020',\n",
       " 'iPhone X',\n",
       " 'iPhone XR',\n",
       " 'iPhone XS',\n",
       " 'iPhone XS Max',\n",
       " 'vivo Y20s']"
      ]
     },
     "execution_count": 24,
     "metadata": {},
     "output_type": "execute_result"
    }
   ],
   "source": [
    "list(data[\"modele\"].sort_values(ascending=True).unique())"
   ]
  },
  {
   "cell_type": "markdown",
   "id": "724c8e2b-d29d-47a6-ba9e-edf11c8e16aa",
   "metadata": {},
   "source": [
    "Parce qu'il y a beaucoup de modèles différents, cette variable sera enlevée dans le machine learning mais elle reste importante pour limiter le nombre de doublons."
   ]
  },
  {
   "cell_type": "markdown",
   "id": "65d741bf-0f1a-4756-80e3-4d5d5aa90bd4",
   "metadata": {},
   "source": [
    "## Megapixels"
   ]
  },
  {
   "cell_type": "code",
   "execution_count": 32,
   "id": "a400942e-cafd-42ae-a203-b8bc5f5a4a12",
   "metadata": {},
   "outputs": [
    {
     "data": {
      "text/plain": [
       "array(['', '12', '16', '13', '24', '48', '40', '64', '12/16', '5', '25',\n",
       "       '19', '24/8/2', '108', '8', '32', '12,2', '50', '20', '23', '3',\n",
       "       '12/12/16', '18', '8/10/12/12/16', '13/8'], dtype=object)"
      ]
     },
     "execution_count": 32,
     "metadata": {},
     "output_type": "execute_result"
    }
   ],
   "source": [
    "data[\"megapixel\"] = data[\"megapixel\"].str.replace(\"MP\", \"\").replace(\"\\s\", \"\", regex=True)\n",
    "data[\"megapixel\"] = data[\"megapixel\"].replace(\"\\+\", \"/\", regex=True)\n",
    "data[\"megapixel\"].unique()"
   ]
  },
  {
   "cell_type": "markdown",
   "id": "c4a9f4cb-9b87-4902-bdae-b58fc01ef8d5",
   "metadata": {},
   "source": [
    "## Système d'exploitation"
   ]
  },
  {
   "cell_type": "code",
   "execution_count": 33,
   "id": "2865d75f-9d48-4cf8-b642-605d736e3720",
   "metadata": {},
   "outputs": [
    {
     "data": {
      "text/plain": [
       "array(['', 'iOS', 'Android', 'Huawei Mobile Services', 'BlackBerry OS'],\n",
       "      dtype=object)"
      ]
     },
     "execution_count": 33,
     "metadata": {},
     "output_type": "execute_result"
    }
   ],
   "source": [
    "data[\"systeme_exploitation\"].unique()"
   ]
  },
  {
   "cell_type": "markdown",
   "id": "811c93cb-328c-401e-a68e-ad8a7fa0f09d",
   "metadata": {},
   "source": [
    "## Résolution écran"
   ]
  },
  {
   "cell_type": "code",
   "execution_count": 34,
   "id": "99e8b965-3148-4de1-821a-29bc7ef99b10",
   "metadata": {},
   "outputs": [],
   "source": [
    "data[\"resolution_ecran\"] = data[\"resolution_ecran\"].str.lower().replace(\"full hd\", \"1920x1080\")\n",
    "data[\"resolution_ecran\"] = data[\"resolution_ecran\"].str.replace(\"pixels\", \"\").replace(\"\\*\", \"x\", regex=True).replace(\"\\×\", \"x\", regex=True)\n",
    "data[\"resolution_ecran\"] = data[\"resolution_ecran\"].str.replace(\"6.42 inches\", \"\", regex=True).replace(\"\\s\", \"\", regex=True)"
   ]
  },
  {
   "cell_type": "code",
   "execution_count": 35,
   "id": "0f678a66-7446-48c0-8621-7b9129312533",
   "metadata": {
    "tags": []
   },
   "outputs": [
    {
     "data": {
      "text/plain": [
       "76"
      ]
     },
     "execution_count": 35,
     "metadata": {},
     "output_type": "execute_result"
    }
   ],
   "source": [
    "len(data[\"resolution_ecran\"].unique())"
   ]
  },
  {
   "cell_type": "code",
   "execution_count": 36,
   "id": "ccd06f84-f31b-40b9-88cc-0c7287d5d404",
   "metadata": {},
   "outputs": [
    {
     "data": {
      "text/plain": [
       "0                \n",
       "1        750x1334\n",
       "2        750x1334\n",
       "3        750x1334\n",
       "4        828x1792\n",
       "          ...    \n",
       "3234    1080x2640\n",
       "3235             \n",
       "3236             \n",
       "3237      480x854\n",
       "3238      480x854\n",
       "Name: resolution_ecran, Length: 3239, dtype: object"
      ]
     },
     "execution_count": 36,
     "metadata": {},
     "output_type": "execute_result"
    }
   ],
   "source": [
    "data.loc[:, \"resolution_ecran\"]"
   ]
  },
  {
   "cell_type": "code",
   "execution_count": 44,
   "id": "6b431371-149c-4f50-96bd-d377a62cde5b",
   "metadata": {
    "tags": []
   },
   "outputs": [
    {
     "data": {
      "text/plain": [
       "51"
      ]
     },
     "execution_count": 44,
     "metadata": {},
     "output_type": "execute_result"
    }
   ],
   "source": [
    "for i in data.index:\n",
    "    resolution = data.loc[i,\"resolution_ecran\"]\n",
    "    if resolution != \"\":\n",
    "        resolution_1, resolution_2 = resolution.split(\"x\")\n",
    "        if int(resolution_1) > int(resolution_2):\n",
    "            data.loc[i,\"resolution_ecran\"] = data.loc[i,\"resolution_ecran\"].replace(resolution, f\"{resolution_2}x{resolution_1}\")\n",
    "\n",
    "len(data[\"resolution_ecran\"].unique())"
   ]
  },
  {
   "cell_type": "markdown",
   "id": "ef289dbf-9556-4aba-9371-97c80900d2db",
   "metadata": {},
   "source": [
    "## Réseau"
   ]
  },
  {
   "cell_type": "code",
   "execution_count": 37,
   "id": "9afed1de-0eec-4fac-a350-6cd40e82b11e",
   "metadata": {},
   "outputs": [
    {
     "data": {
      "text/plain": [
       "array(['', '4G', '5G', '3G', '2G'], dtype=object)"
      ]
     },
     "execution_count": 37,
     "metadata": {},
     "output_type": "execute_result"
    }
   ],
   "source": [
    "data[\"reseau\"].unique()"
   ]
  },
  {
   "cell_type": "markdown",
   "id": "84df212d-5fbe-4f3b-98f9-844822bee074",
   "metadata": {},
   "source": [
    "## Date de sortie"
   ]
  },
  {
   "cell_type": "code",
   "execution_count": 38,
   "id": "c0fd6594-66f9-4496-8a04-8e01235c9132",
   "metadata": {},
   "outputs": [],
   "source": [
    "data[\"date_de_sortie\"] = data[\"date_de_sortie\"].str.replace(\"25\", \"\").replace(\"[A-Z, a-z, é, û]\", \"\", regex=True)"
   ]
  },
  {
   "cell_type": "code",
   "execution_count": 39,
   "id": "7f731c2a-382a-43fa-8a18-f39cc53675ef",
   "metadata": {},
   "outputs": [
    {
     "data": {
      "text/plain": [
       "array(['', '2017', '2018', '2019', '2020', '2016', '2015', '2010', '2014',\n",
       "       '2021', '2013', '2012'], dtype=object)"
      ]
     },
     "execution_count": 39,
     "metadata": {},
     "output_type": "execute_result"
    }
   ],
   "source": [
    "data[\"date_de_sortie\"].unique()"
   ]
  },
  {
   "cell_type": "markdown",
   "id": "574b8195-9f5c-4273-b054-986774642243",
   "metadata": {},
   "source": [
    "## Mémoire"
   ]
  },
  {
   "cell_type": "code",
   "execution_count": 40,
   "id": "dee04020-b859-433a-935d-7ae4473a5a70",
   "metadata": {},
   "outputs": [],
   "source": [
    "data[\"memoire\"] = data[\"memoire\"].str.replace(\"[A-Z, a-z]\", \"\", regex=True).replace(\"\", np.NaN).astype(\"float\")"
   ]
  },
  {
   "cell_type": "code",
   "execution_count": 41,
   "id": "ab5e3574-ce67-40b9-8f81-0436244845ff",
   "metadata": {},
   "outputs": [
    {
     "data": {
      "text/plain": [
       "array([   nan,  2.   ,  3.   ,  4.   ,  8.   ,  6.   , 15.   , 12.   ,\n",
       "        1.   ,  1.5  ,  0.512])"
      ]
     },
     "execution_count": 41,
     "metadata": {},
     "output_type": "execute_result"
    }
   ],
   "source": [
    "data[\"memoire\"].unique()"
   ]
  },
  {
   "cell_type": "markdown",
   "id": "69673f06-afbb-46d0-ac88-1dfe53a5e4ec",
   "metadata": {},
   "source": [
    "## Vitesse processeur"
   ]
  },
  {
   "cell_type": "code",
   "execution_count": 42,
   "id": "c0d806d8-0e2f-451e-931d-23ee8308df56",
   "metadata": {},
   "outputs": [],
   "source": [
    "data[\"vitesse_processeur\"] = data[\"vitesse_processeur\"].str.replace(\",\", \".\").replace(\" GHz\", \"\", regex=True)\n",
    "data[\"vitesse_processeur\"] = data[\"vitesse_processeur\"].replace(\"\", np.NaN).astype(\"float\")"
   ]
  },
  {
   "cell_type": "code",
   "execution_count": 43,
   "id": "5d862ee6-aaeb-43c1-81f2-aacb55c6469c",
   "metadata": {},
   "outputs": [
    {
     "data": {
      "text/plain": [
       "array([   nan,   2.39,   2.5 ,   2.66,   2.34,   2.7 ,   1.7 ,   2.73,\n",
       "         3.1 ,   1.84,   2.3 ,   1.9 ,   2.65,   2.8 ,   1.6 ,   2.36,\n",
       "         2.2 ,   1.4 ,   2.23,   1.5 ,   1.2 ,   2.6 ,   2.35,   1.77,\n",
       "         2.4 ,   2.84, 266.  ,  16.  ,   2.  ,   1.8 ,   1.78,   1.3 ,\n",
       "         2.53,   1.  ,   2.42,   2.1 ,   2.9 ,   2.45,   8.  ,   2.15,\n",
       "        24.  ,   1.45,   2.96,   1.1 ])"
      ]
     },
     "execution_count": 43,
     "metadata": {},
     "output_type": "execute_result"
    }
   ],
   "source": [
    "data[\"vitesse_processeur\"].unique()"
   ]
  },
  {
   "cell_type": "code",
   "execution_count": 44,
   "id": "471b734b-2b9a-4caa-9036-7deb1870f1fa",
   "metadata": {},
   "outputs": [],
   "source": [
    "data = data.rename(columns={\"vitesse_processeur\":\"vitesse_processeur_GHz\"})"
   ]
  },
  {
   "cell_type": "markdown",
   "id": "3eeae616-9ff8-4e40-bbde-299b3bbe38a9",
   "metadata": {},
   "source": [
    "## Connecteur"
   ]
  },
  {
   "cell_type": "code",
   "execution_count": 45,
   "id": "e3776325-e05c-4903-acde-1530ad54effd",
   "metadata": {},
   "outputs": [
    {
     "data": {
      "text/plain": [
       "array(['', 'Lightning', 'micro USB + Jack 3.5mm', 'USB-C + Jack 3.5mm',\n",
       "       'Lightning + Jack 3.5mm', 'USB-C', 'micro USB'], dtype=object)"
      ]
     },
     "execution_count": 45,
     "metadata": {},
     "output_type": "execute_result"
    }
   ],
   "source": [
    "data[\"connecteur\"].unique()"
   ]
  },
  {
   "cell_type": "markdown",
   "id": "ea6c1fb2-94ce-4dab-9fb9-0c16d05ff2ed",
   "metadata": {},
   "source": [
    "## Double sim"
   ]
  },
  {
   "cell_type": "code",
   "execution_count": 46,
   "id": "0d9f900d-0805-422f-914c-55b71bb44a8e",
   "metadata": {},
   "outputs": [
    {
     "data": {
      "text/plain": [
       "array(['Oui', 'Non'], dtype=object)"
      ]
     },
     "execution_count": 46,
     "metadata": {},
     "output_type": "execute_result"
    }
   ],
   "source": [
    "data[\"double_sim\"].unique()"
   ]
  },
  {
   "cell_type": "markdown",
   "id": "c881b71b-1560-4f55-a6db-c2a63c940708",
   "metadata": {},
   "source": [
    "## Port carte SD"
   ]
  },
  {
   "cell_type": "code",
   "execution_count": 47,
   "id": "82825959-699b-4b6f-bd19-91f18d641861",
   "metadata": {},
   "outputs": [
    {
     "data": {
      "text/plain": [
       "array(['', 'Non', 'Oui'], dtype=object)"
      ]
     },
     "execution_count": 47,
     "metadata": {},
     "output_type": "execute_result"
    }
   ],
   "source": [
    "data[\"port_carte_SD\"].unique()"
   ]
  },
  {
   "cell_type": "code",
   "execution_count": 48,
   "id": "5537731f-e845-4440-9d5c-685ee8d047bf",
   "metadata": {},
   "outputs": [],
   "source": [
    "data[\"port_carte_SD\"] = data[\"port_carte_SD\"].str.replace(\" \", \"\").replace(\"\", \"Non\")"
   ]
  },
  {
   "cell_type": "code",
   "execution_count": 49,
   "id": "fc3a5d80-92c3-452c-a8ee-5b5deb1da10f",
   "metadata": {},
   "outputs": [
    {
     "data": {
      "text/plain": [
       "array(['Non', 'Oui'], dtype=object)"
      ]
     },
     "execution_count": 49,
     "metadata": {},
     "output_type": "execute_result"
    }
   ],
   "source": [
    "data[\"port_carte_SD\"].unique()"
   ]
  },
  {
   "cell_type": "markdown",
   "id": "9144e88e-9fc8-4b4c-ada2-856ec4918128",
   "metadata": {},
   "source": [
    "## Pliable"
   ]
  },
  {
   "cell_type": "code",
   "execution_count": 50,
   "id": "516f7da7-5d65-4770-84bb-e67212b0fb12",
   "metadata": {},
   "outputs": [],
   "source": [
    "data[\"pliable\"] = data[\"pliable\"].str.replace(\" \", \"\").replace(\"\", \"Non\")"
   ]
  },
  {
   "cell_type": "code",
   "execution_count": 51,
   "id": "867f6305-8e20-4b36-be51-4ca598a3f5d1",
   "metadata": {},
   "outputs": [
    {
     "data": {
      "text/plain": [
       "array(['Non', 'Oui'], dtype=object)"
      ]
     },
     "execution_count": 51,
     "metadata": {},
     "output_type": "execute_result"
    }
   ],
   "source": [
    "data[\"pliable\"].unique()"
   ]
  },
  {
   "cell_type": "markdown",
   "id": "8c2e08c0-3766-4fb6-b6ab-7e451a208a48",
   "metadata": {},
   "source": [
    "## Réseau 5G"
   ]
  },
  {
   "cell_type": "code",
   "execution_count": 52,
   "id": "b2e63025-e2b4-4373-96ad-7a5818b9b646",
   "metadata": {},
   "outputs": [
    {
     "data": {
      "text/plain": [
       "array([''], dtype=object)"
      ]
     },
     "execution_count": 52,
     "metadata": {},
     "output_type": "execute_result"
    }
   ],
   "source": [
    "data[\"reseau_5G\"].unique()"
   ]
  },
  {
   "cell_type": "markdown",
   "id": "a50d2260-f6dc-4052-9e20-50f444dd6e74",
   "metadata": {},
   "source": [
    "Problème avec cette variable, elle sera enlevée."
   ]
  },
  {
   "cell_type": "code",
   "execution_count": 53,
   "id": "a538a2cc-f187-4d84-ab15-88146f8dad9f",
   "metadata": {},
   "outputs": [],
   "source": [
    "data = data.drop(columns=\"reseau_5G\")"
   ]
  },
  {
   "cell_type": "markdown",
   "id": "8b250804-c85b-453c-8d93-6da714a2c7cb",
   "metadata": {},
   "source": [
    "## Appareil photo"
   ]
  },
  {
   "cell_type": "code",
   "execution_count": 54,
   "id": "2f65ab4e-cb2c-422a-a590-dbb26db7fb49",
   "metadata": {},
   "outputs": [
    {
     "data": {
      "text/plain": [
       "array(['', 'Simple (1x)', 'Double (2x)', 'Triple (3x)', 'Quadruple (4x)',\n",
       "       'Quintuple (5x)'], dtype=object)"
      ]
     },
     "execution_count": 54,
     "metadata": {},
     "output_type": "execute_result"
    }
   ],
   "source": [
    "data[\"appareil_photo\"].unique()"
   ]
  },
  {
   "cell_type": "markdown",
   "id": "9cd65024-2351-4c74-a234-0edec7718cfb",
   "metadata": {},
   "source": [
    "## Poids"
   ]
  },
  {
   "cell_type": "code",
   "execution_count": 55,
   "id": "c7d63626-6c2c-46c3-8d30-dd8fa3c968c1",
   "metadata": {},
   "outputs": [],
   "source": [
    "data[\"poids\"] = data[\"poids\"].str.replace(\" g\", \"\").astype(\"int\")"
   ]
  },
  {
   "cell_type": "code",
   "execution_count": 56,
   "id": "0c935f64-cebd-49aa-9282-e32a5383bdff",
   "metadata": {},
   "outputs": [
    {
     "data": {
      "text/html": [
       "<div>\n",
       "<style scoped>\n",
       "    .dataframe tbody tr th:only-of-type {\n",
       "        vertical-align: middle;\n",
       "    }\n",
       "\n",
       "    .dataframe tbody tr th {\n",
       "        vertical-align: top;\n",
       "    }\n",
       "\n",
       "    .dataframe thead th {\n",
       "        text-align: right;\n",
       "    }\n",
       "</style>\n",
       "<table border=\"1\" class=\"dataframe\">\n",
       "  <thead>\n",
       "    <tr style=\"text-align: right;\">\n",
       "      <th></th>\n",
       "      <th>etat</th>\n",
       "      <th>marque</th>\n",
       "      <th>prix_euro</th>\n",
       "      <th>serie</th>\n",
       "      <th>couleur</th>\n",
       "      <th>taille_ecran_pouce</th>\n",
       "      <th>capacite_stockage_Go</th>\n",
       "      <th>modele</th>\n",
       "      <th>megapixel</th>\n",
       "      <th>systeme_exploitation</th>\n",
       "      <th>...</th>\n",
       "      <th>connecteur</th>\n",
       "      <th>double_sim</th>\n",
       "      <th>port_carte_SD</th>\n",
       "      <th>pliable</th>\n",
       "      <th>appareil_photo</th>\n",
       "      <th>poids</th>\n",
       "      <th>hauteur</th>\n",
       "      <th>largeur</th>\n",
       "      <th>profondeur</th>\n",
       "      <th>lien</th>\n",
       "    </tr>\n",
       "  </thead>\n",
       "  <tbody>\n",
       "    <tr>\n",
       "      <th>2</th>\n",
       "      <td>Parfait état</td>\n",
       "      <td>asus</td>\n",
       "      <td>598.0</td>\n",
       "      <td></td>\n",
       "      <td>argent</td>\n",
       "      <td>5.9</td>\n",
       "      <td>128.0</td>\n",
       "      <td>asus smartphone zenfone 8 silver 128 go 5g</td>\n",
       "      <td></td>\n",
       "      <td></td>\n",
       "      <td>...</td>\n",
       "      <td></td>\n",
       "      <td>Oui</td>\n",
       "      <td>Non</td>\n",
       "      <td>Non</td>\n",
       "      <td></td>\n",
       "      <td>2500</td>\n",
       "      <td></td>\n",
       "      <td></td>\n",
       "      <td></td>\n",
       "      <td>https://www.backmarket.fr/asus-asus-smartphon...</td>\n",
       "    </tr>\n",
       "  </tbody>\n",
       "</table>\n",
       "<p>1 rows × 26 columns</p>\n",
       "</div>"
      ],
      "text/plain": [
       "           etat marque  prix_euro serie couleur  taille_ecran_pouce  \\\n",
       "2  Parfait état   asus      598.0        argent                 5.9   \n",
       "\n",
       "   capacite_stockage_Go                                      modele megapixel  \\\n",
       "2                 128.0  asus smartphone zenfone 8 silver 128 go 5g             \n",
       "\n",
       "  systeme_exploitation  ... connecteur double_sim port_carte_SD  pliable  \\\n",
       "2                       ...                   Oui           Non      Non   \n",
       "\n",
       "   appareil_photo poids hauteur largeur profondeur  \\\n",
       "2                  2500                              \n",
       "\n",
       "                                                lien  \n",
       "2   https://www.backmarket.fr/asus-asus-smartphon...  \n",
       "\n",
       "[1 rows x 26 columns]"
      ]
     },
     "execution_count": 56,
     "metadata": {},
     "output_type": "execute_result"
    }
   ],
   "source": [
    "data[data.poids==2500]"
   ]
  },
  {
   "cell_type": "markdown",
   "id": "453e0972-744c-4c26-8d0a-9e4f0d010290",
   "metadata": {},
   "source": [
    "Après recherche sur internet, le poids du téléphone de 2,5 kg est de 169g en réalité. Il s'agissait d'une erreur sur le site."
   ]
  },
  {
   "cell_type": "code",
   "execution_count": 57,
   "id": "6c78819e-545f-42b2-9f2f-6bab99a79a16",
   "metadata": {},
   "outputs": [],
   "source": [
    "data[\"poids\"] = data[\"poids\"].replace(2500, 169)"
   ]
  },
  {
   "cell_type": "code",
   "execution_count": 58,
   "id": "49a5a053-5057-4f7e-8632-96d7ddde7c38",
   "metadata": {},
   "outputs": [
    {
     "data": {
      "text/plain": [
       "array([ 169,  148,  194,  174,  163,  138,  177,  155,  157,  164,  188,\n",
       "        189,  143,  175,  202,  113,  150,  152,  198,  226,  208,  187,\n",
       "        135,  140,  160,  145,  159,  158,  205,  172,  132,  200,  165,\n",
       "        141,  173,  154,  168,  171,  192,  123,  193,  201,  282,  196,\n",
       "        186,  180,  133,  190,  222,  144,  149,  183,  217,  130,  195,\n",
       "        213,  184,  162,  199,  214,  120,  206,  179,  147,  209,  203,\n",
       "        131,  166,  151,  176,  216,  218,  227,  126,  185,  182,  181,\n",
       "        142,  156,  178,  240,  215,  170,  161,  220,  250,  271,  310,\n",
       "        111,  107,  110,  153,  146,  234,  136,  167,  263,  197,  490,\n",
       "        418,  191,  204, 1150,  207,  115,   90])"
      ]
     },
     "execution_count": 58,
     "metadata": {},
     "output_type": "execute_result"
    }
   ],
   "source": [
    "data[\"poids\"].unique()"
   ]
  },
  {
   "cell_type": "code",
   "execution_count": 59,
   "id": "cfe05957-c5bb-4376-bc29-1da4965ac257",
   "metadata": {},
   "outputs": [],
   "source": [
    "data = data.rename(columns={\"poids\":\"poids_g\"})"
   ]
  },
  {
   "cell_type": "markdown",
   "id": "da1661cb-f32e-4995-8bc0-5f618f21b0cb",
   "metadata": {},
   "source": [
    "## Hauteur"
   ]
  },
  {
   "cell_type": "code",
   "execution_count": 60,
   "id": "7cef6863-cd42-49a7-a5ae-8a8fc0b1d6c4",
   "metadata": {},
   "outputs": [],
   "source": [
    "data[\"hauteur\"] = data[\"hauteur\"].str.replace(\" cm\", \"\").replace(\",\", \".\", regex=True)"
   ]
  },
  {
   "cell_type": "code",
   "execution_count": 61,
   "id": "803fc9dc-8247-4d36-97ce-b237a85c399e",
   "metadata": {},
   "outputs": [],
   "source": [
    "data[\"hauteur\"] = data[\"hauteur\"].replace(\"\", np.NaN).astype(\"float\")"
   ]
  },
  {
   "cell_type": "code",
   "execution_count": 62,
   "id": "55fa3c1f-7fda-4161-b1c0-048d5c705d9d",
   "metadata": {},
   "outputs": [
    {
     "data": {
      "text/plain": [
       "array([    nan,  13.84 ,  14.36 ,  15.09 ,  13.83 ,  14.89 ,  14.67 ,\n",
       "        15.84 ,  12.38 ,  14.24 ,  14.61 ,  14.4  ,  13.15 ,  15.8  ,\n",
       "        13.54 ,  14.44 ,  14.62 ,  15.82 ,  16.08 ,  14.48 ,  14.34 ,\n",
       "        13.4  ,  15.76 ,  14.7  ,  14.2  ,  13.29 ,  13.9  ,  16.19 ,\n",
       "        15.52 ,  14.9  ,  14.23 ,  15.95 ,  14.58 , 152.   ,  15.2  ,\n",
       "        15.5  ,  15.35 ,  14.3  ,  14.68 ,  15.9  ,  14.53 , 160.9  ,\n",
       "        13.676,  13.45 ,  14.5  ,  16.2  ,  15.77 ,  14.6  ,  14.99 ,\n",
       "        12.16 ,  15.42 ,  14.21 ,  15.83 ,  15.   ,  16.04 ,  13.11 ,\n",
       "       160.1  ,  15.81 ,  13.3  ,  15.7  ,   6.2  ,  16.4  ,  13.   ,\n",
       "       153.5  ,  12.   ,   7.   ])"
      ]
     },
     "execution_count": 62,
     "metadata": {},
     "output_type": "execute_result"
    }
   ],
   "source": [
    "data[\"hauteur\"].unique()"
   ]
  },
  {
   "cell_type": "code",
   "execution_count": 63,
   "id": "cc0f8386-687c-4e7e-9782-07ece7667ea0",
   "metadata": {},
   "outputs": [],
   "source": [
    "data = data.rename(columns={\"hauteur\":\"hauteur_cm\"})"
   ]
  },
  {
   "cell_type": "markdown",
   "id": "29fc8897-1d23-4c30-b83f-a8681ceb06e3",
   "metadata": {},
   "source": [
    "## Largeur"
   ]
  },
  {
   "cell_type": "code",
   "execution_count": 64,
   "id": "08a99cf9-889d-4d29-8556-5b0df8a1822d",
   "metadata": {},
   "outputs": [],
   "source": [
    "data[\"largeur\"] = data[\"largeur\"].str.replace(\" cm\", \"\").replace(\",\", \".\", regex=True).replace(\"\", np.NaN).astype(\"float\")"
   ]
  },
  {
   "cell_type": "code",
   "execution_count": 65,
   "id": "dfefd217-e16c-4409-9819-a8e2a258273b",
   "metadata": {},
   "outputs": [
    {
     "data": {
      "text/plain": [
       "array([  nan,  6.73,  7.09,  7.57,  6.71,  6.81,  7.15,  7.81,  5.86,\n",
       "        6.96,  7.14,  6.42,  7.78,  6.62,  6.92,  7.13,  7.79,  7.1 ,\n",
       "        7.05,  6.5 ,  7.41,  6.9 ,  6.99,  7.01,  7.34,  6.97,  7.64,\n",
       "        6.4 ,  7.23, 79.  ,  7.25,  7.2 ,  7.5 ,  7.86,  7.26,  6.93,\n",
       "       74.4 ,  6.52,  7.48,  7.47,  7.  ,  7.06,  7.04,  6.3 ,  7.67,\n",
       "        6.48, 76.1 ,  7.4 ,  3.05,  7.6 ,  6.7 , 71.9 ,  4.  ])"
      ]
     },
     "execution_count": 65,
     "metadata": {},
     "output_type": "execute_result"
    }
   ],
   "source": [
    "data[\"largeur\"].unique()"
   ]
  },
  {
   "cell_type": "code",
   "execution_count": 66,
   "id": "9b466e09-8435-46e0-a254-d62c1e65456f",
   "metadata": {},
   "outputs": [],
   "source": [
    "data = data.rename(columns={\"largeur\":\"largeur_cm\"})"
   ]
  },
  {
   "cell_type": "markdown",
   "id": "cc7958e0-86f9-48a9-80de-cbae72da3dbb",
   "metadata": {},
   "source": [
    "## Profondeur"
   ]
  },
  {
   "cell_type": "code",
   "execution_count": 67,
   "id": "3a7da6d8-5d2f-4f53-89c2-68118e94332a",
   "metadata": {},
   "outputs": [],
   "source": [
    "data[\"profondeur\"] = data[\"profondeur\"].str.replace(\" cm\", \"\").replace(\",\", \".\", regex=True).replace(\"\", np.NaN).astype(\"float\")"
   ]
  },
  {
   "cell_type": "code",
   "execution_count": 68,
   "id": "eb5ac5bc-0c15-4824-9fef-0c7e40f8aac5",
   "metadata": {},
   "outputs": [
    {
     "data": {
      "text/plain": [
       "array([   nan,  0.73 ,  0.77 ,  0.83 ,  0.71 ,  0.81 ,  0.74 ,  0.75 ,\n",
       "        0.76 ,  0.79 ,  6.92 ,  0.8  ,  0.68 ,  0.7  ,  0.78 ,  0.84 ,\n",
       "        1.   ,  0.67 ,  0.88 ,  0.795, 12.   ,  0.85 ,  6.98 ,  8.1  ,\n",
       "        0.82 ,  9.9  ,  0.725,  0.91 ,  8.2  ,  0.3  ,  8.5  ,  1.5  ,\n",
       "        4.   ])"
      ]
     },
     "execution_count": 68,
     "metadata": {},
     "output_type": "execute_result"
    }
   ],
   "source": [
    "data[\"profondeur\"].unique()"
   ]
  },
  {
   "cell_type": "code",
   "execution_count": 69,
   "id": "6e0b2d11-9e38-4bc7-827b-ade98601b7b2",
   "metadata": {},
   "outputs": [],
   "source": [
    "data = data.rename(columns={\"profondeur\":\"profondeur_cm\"})"
   ]
  },
  {
   "cell_type": "markdown",
   "id": "c38b31fc-b834-4339-a1b8-00c56c1f1db0",
   "metadata": {},
   "source": [
    "## Lien"
   ]
  },
  {
   "cell_type": "markdown",
   "id": "a6d731b0-4670-49fb-b617-e3ebdbceeefb",
   "metadata": {},
   "source": [
    "Les liens peuvent être amenés à changer du jour au lendemain. Par conséquence, nous ne garderons pas la variable."
   ]
  },
  {
   "cell_type": "code",
   "execution_count": 70,
   "id": "3edfb87f-23fb-4985-add6-24841be49b89",
   "metadata": {},
   "outputs": [],
   "source": [
    "data = data.drop(columns=\"lien\")"
   ]
  },
  {
   "cell_type": "markdown",
   "id": "10a7b96a-9e0b-419d-b171-de068fa96ce9",
   "metadata": {},
   "source": [
    "# Autre"
   ]
  },
  {
   "cell_type": "code",
   "execution_count": 71,
   "id": "e81b2a7a-71f6-4ffd-9c63-f32b99637a8d",
   "metadata": {},
   "outputs": [],
   "source": [
    "data = data.drop_duplicates(ignore_index=True)"
   ]
  },
  {
   "cell_type": "code",
   "execution_count": 72,
   "id": "3b326f91-465b-4fa1-a9c6-e4abf2bd57cc",
   "metadata": {},
   "outputs": [
    {
     "data": {
      "text/html": [
       "<div>\n",
       "<style scoped>\n",
       "    .dataframe tbody tr th:only-of-type {\n",
       "        vertical-align: middle;\n",
       "    }\n",
       "\n",
       "    .dataframe tbody tr th {\n",
       "        vertical-align: top;\n",
       "    }\n",
       "\n",
       "    .dataframe thead th {\n",
       "        text-align: right;\n",
       "    }\n",
       "</style>\n",
       "<table border=\"1\" class=\"dataframe\">\n",
       "  <thead>\n",
       "    <tr style=\"text-align: right;\">\n",
       "      <th></th>\n",
       "      <th>prix_euro</th>\n",
       "      <th>taille_ecran_pouce</th>\n",
       "      <th>capacite_stockage_Go</th>\n",
       "      <th>memoire</th>\n",
       "      <th>vitesse_processeur_GHz</th>\n",
       "      <th>poids_g</th>\n",
       "      <th>hauteur_cm</th>\n",
       "      <th>largeur_cm</th>\n",
       "      <th>profondeur_cm</th>\n",
       "    </tr>\n",
       "  </thead>\n",
       "  <tbody>\n",
       "    <tr>\n",
       "      <th>count</th>\n",
       "      <td>3072.00</td>\n",
       "      <td>3072.00</td>\n",
       "      <td>3072.00</td>\n",
       "      <td>2972.00</td>\n",
       "      <td>1915.00</td>\n",
       "      <td>3072.00</td>\n",
       "      <td>996.00</td>\n",
       "      <td>996.00</td>\n",
       "      <td>950.00</td>\n",
       "    </tr>\n",
       "    <tr>\n",
       "      <th>mean</th>\n",
       "      <td>377.25</td>\n",
       "      <td>5.97</td>\n",
       "      <td>134.28</td>\n",
       "      <td>5.27</td>\n",
       "      <td>2.73</td>\n",
       "      <td>177.20</td>\n",
       "      <td>15.90</td>\n",
       "      <td>7.75</td>\n",
       "      <td>0.92</td>\n",
       "    </tr>\n",
       "    <tr>\n",
       "      <th>std</th>\n",
       "      <td>220.77</td>\n",
       "      <td>0.67</td>\n",
       "      <td>109.71</td>\n",
       "      <td>2.84</td>\n",
       "      <td>8.57</td>\n",
       "      <td>33.48</td>\n",
       "      <td>13.53</td>\n",
       "      <td>6.53</td>\n",
       "      <td>1.13</td>\n",
       "    </tr>\n",
       "    <tr>\n",
       "      <th>min</th>\n",
       "      <td>29.00</td>\n",
       "      <td>2.40</td>\n",
       "      <td>0.00</td>\n",
       "      <td>0.51</td>\n",
       "      <td>1.00</td>\n",
       "      <td>90.00</td>\n",
       "      <td>6.20</td>\n",
       "      <td>3.05</td>\n",
       "      <td>0.30</td>\n",
       "    </tr>\n",
       "    <tr>\n",
       "      <th>25%</th>\n",
       "      <td>200.00</td>\n",
       "      <td>5.50</td>\n",
       "      <td>64.00</td>\n",
       "      <td>3.00</td>\n",
       "      <td>2.20</td>\n",
       "      <td>157.00</td>\n",
       "      <td>13.84</td>\n",
       "      <td>6.73</td>\n",
       "      <td>0.73</td>\n",
       "    </tr>\n",
       "    <tr>\n",
       "      <th>50%</th>\n",
       "      <td>319.50</td>\n",
       "      <td>6.10</td>\n",
       "      <td>128.00</td>\n",
       "      <td>4.00</td>\n",
       "      <td>2.50</td>\n",
       "      <td>176.00</td>\n",
       "      <td>14.67</td>\n",
       "      <td>7.15</td>\n",
       "      <td>0.74</td>\n",
       "    </tr>\n",
       "    <tr>\n",
       "      <th>75%</th>\n",
       "      <td>513.00</td>\n",
       "      <td>6.50</td>\n",
       "      <td>128.00</td>\n",
       "      <td>8.00</td>\n",
       "      <td>2.70</td>\n",
       "      <td>194.00</td>\n",
       "      <td>15.52</td>\n",
       "      <td>7.57</td>\n",
       "      <td>0.79</td>\n",
       "    </tr>\n",
       "    <tr>\n",
       "      <th>max</th>\n",
       "      <td>999.00</td>\n",
       "      <td>8.00</td>\n",
       "      <td>512.00</td>\n",
       "      <td>15.00</td>\n",
       "      <td>266.00</td>\n",
       "      <td>1150.00</td>\n",
       "      <td>160.90</td>\n",
       "      <td>79.00</td>\n",
       "      <td>12.00</td>\n",
       "    </tr>\n",
       "  </tbody>\n",
       "</table>\n",
       "</div>"
      ],
      "text/plain": [
       "       prix_euro  taille_ecran_pouce  capacite_stockage_Go  memoire  \\\n",
       "count    3072.00             3072.00               3072.00  2972.00   \n",
       "mean      377.25                5.97                134.28     5.27   \n",
       "std       220.77                0.67                109.71     2.84   \n",
       "min        29.00                2.40                  0.00     0.51   \n",
       "25%       200.00                5.50                 64.00     3.00   \n",
       "50%       319.50                6.10                128.00     4.00   \n",
       "75%       513.00                6.50                128.00     8.00   \n",
       "max       999.00                8.00                512.00    15.00   \n",
       "\n",
       "       vitesse_processeur_GHz  poids_g  hauteur_cm  largeur_cm  profondeur_cm  \n",
       "count                 1915.00  3072.00      996.00      996.00         950.00  \n",
       "mean                     2.73   177.20       15.90        7.75           0.92  \n",
       "std                      8.57    33.48       13.53        6.53           1.13  \n",
       "min                      1.00    90.00        6.20        3.05           0.30  \n",
       "25%                      2.20   157.00       13.84        6.73           0.73  \n",
       "50%                      2.50   176.00       14.67        7.15           0.74  \n",
       "75%                      2.70   194.00       15.52        7.57           0.79  \n",
       "max                    266.00  1150.00      160.90       79.00          12.00  "
      ]
     },
     "execution_count": 72,
     "metadata": {},
     "output_type": "execute_result"
    }
   ],
   "source": [
    "round(data.describe(), 2)"
   ]
  },
  {
   "cell_type": "markdown",
   "id": "87cca0fa-bd11-4753-bb8d-1c69cbc067ae",
   "metadata": {},
   "source": [
    "On remplace les valeurs manquantes par un NA."
   ]
  },
  {
   "cell_type": "code",
   "execution_count": 73,
   "id": "7d8fa08d-627a-46d0-978d-d007389cc6b3",
   "metadata": {},
   "outputs": [],
   "source": [
    "data = data.replace(\"\", np.NaN)"
   ]
  },
  {
   "cell_type": "markdown",
   "id": "b462b30e-889e-493a-9bfa-7850a05764b4",
   "metadata": {},
   "source": [
    "On calcule la somme des valeurs manquantes pour chaque variable."
   ]
  },
  {
   "cell_type": "code",
   "execution_count": 74,
   "id": "593f43a5-987f-4935-8dd9-e8c38e0ff786",
   "metadata": {},
   "outputs": [
    {
     "data": {
      "text/plain": [
       "etat                         0\n",
       "marque                       0\n",
       "prix_euro                    0\n",
       "serie                     1006\n",
       "couleur                      1\n",
       "taille_ecran_pouce           0\n",
       "capacite_stockage_Go         0\n",
       "modele                       0\n",
       "megapixel                   92\n",
       "systeme_exploitation         3\n",
       "resolution_ecran           406\n",
       "reseau                       2\n",
       "date_de_sortie              83\n",
       "memoire                    100\n",
       "vitesse_processeur_GHz    1157\n",
       "nombre_coeur              1118\n",
       "connecteur                   2\n",
       "double_sim                   0\n",
       "port_carte_SD                0\n",
       "pliable                      0\n",
       "appareil_photo            1081\n",
       "poids_g                      0\n",
       "hauteur_cm                2076\n",
       "largeur_cm                2076\n",
       "profondeur_cm             2122\n",
       "dtype: int64"
      ]
     },
     "execution_count": 74,
     "metadata": {},
     "output_type": "execute_result"
    }
   ],
   "source": [
    "data.isnull().sum()"
   ]
  },
  {
   "cell_type": "markdown",
   "id": "c6eb36e4-f68b-419e-b786-065ece0d9394",
   "metadata": {},
   "source": [
    "Variables à garder :\n",
    "- etat\n",
    "- marque\n",
    "- prix_euro\n",
    "- couleur\n",
    "- taille_ecran_pouce\n",
    "- capacite_stockage_Go\n",
    "- modele\n",
    "- megapixel\n",
    "- systeme_exploitation\n",
    "- resolution_ecran\n",
    "- reseau\n",
    "- date_de_sortie\n",
    "- memoire\n",
    "- connecteur\n",
    "- double_sim\n",
    "- port_carte_SD\n",
    "- pliable\n",
    "- poids_g"
   ]
  },
  {
   "cell_type": "code",
   "execution_count": 75,
   "id": "c8b448f6-3260-43ef-8f6e-6df9157d0fbf",
   "metadata": {},
   "outputs": [],
   "source": [
    "data_final = data.loc[:,\n",
    "     [\n",
    "         \"etat\", \"marque\", \"prix_euro\", \"couleur\", \"taille_ecran_pouce\", \"capacite_stockage_Go\", \"modele\", \n",
    "         \"megapixel\", \"systeme_exploitation\", \"resolution_ecran\", \"reseau\", \"date_de_sortie\", \"memoire\", \n",
    "         \"connecteur\", \"double_sim\", \"port_carte_SD\", \"pliable\", \"poids_g\"\n",
    "     ]\n",
    "    ]"
   ]
  },
  {
   "cell_type": "code",
   "execution_count": 76,
   "id": "8b07da13-cb20-4874-8b8e-2b846d61b3c3",
   "metadata": {},
   "outputs": [],
   "source": [
    "data_final = data_final.dropna().drop_duplicates(ignore_index=True)\n",
    "data_final = data_final.drop(axis=1, columns=\"modele\")"
   ]
  },
  {
   "cell_type": "code",
   "execution_count": 77,
   "id": "65151726-df85-4270-bfb1-a8e0741bba98",
   "metadata": {},
   "outputs": [],
   "source": [
    "path = os.path.dirname(os.getcwd())\n",
    "data_final.to_csv(path + \"\\Donnees\\complete_database.csv\")"
   ]
  },
  {
   "cell_type": "code",
   "execution_count": 78,
   "id": "5d8db13f-53aa-4c8a-b07d-735161eba25c",
   "metadata": {},
   "outputs": [
    {
     "data": {
      "text/html": [
       "<div>\n",
       "<style scoped>\n",
       "    .dataframe tbody tr th:only-of-type {\n",
       "        vertical-align: middle;\n",
       "    }\n",
       "\n",
       "    .dataframe tbody tr th {\n",
       "        vertical-align: top;\n",
       "    }\n",
       "\n",
       "    .dataframe thead th {\n",
       "        text-align: right;\n",
       "    }\n",
       "</style>\n",
       "<table border=\"1\" class=\"dataframe\">\n",
       "  <thead>\n",
       "    <tr style=\"text-align: right;\">\n",
       "      <th></th>\n",
       "      <th>prix_euro</th>\n",
       "      <th>taille_ecran_pouce</th>\n",
       "      <th>capacite_stockage_Go</th>\n",
       "      <th>memoire</th>\n",
       "      <th>poids_g</th>\n",
       "    </tr>\n",
       "  </thead>\n",
       "  <tbody>\n",
       "    <tr>\n",
       "      <th>count</th>\n",
       "      <td>2505.00</td>\n",
       "      <td>2505.00</td>\n",
       "      <td>2505.00</td>\n",
       "      <td>2505.00</td>\n",
       "      <td>2505.00</td>\n",
       "    </tr>\n",
       "    <tr>\n",
       "      <th>mean</th>\n",
       "      <td>380.59</td>\n",
       "      <td>5.90</td>\n",
       "      <td>130.45</td>\n",
       "      <td>5.07</td>\n",
       "      <td>174.80</td>\n",
       "    </tr>\n",
       "    <tr>\n",
       "      <th>std</th>\n",
       "      <td>217.86</td>\n",
       "      <td>0.66</td>\n",
       "      <td>109.42</td>\n",
       "      <td>2.76</td>\n",
       "      <td>27.08</td>\n",
       "    </tr>\n",
       "    <tr>\n",
       "      <th>min</th>\n",
       "      <td>39.00</td>\n",
       "      <td>4.00</td>\n",
       "      <td>4.00</td>\n",
       "      <td>0.51</td>\n",
       "      <td>110.00</td>\n",
       "    </tr>\n",
       "    <tr>\n",
       "      <th>25%</th>\n",
       "      <td>205.00</td>\n",
       "      <td>5.50</td>\n",
       "      <td>64.00</td>\n",
       "      <td>3.00</td>\n",
       "      <td>155.00</td>\n",
       "    </tr>\n",
       "    <tr>\n",
       "      <th>50%</th>\n",
       "      <td>327.00</td>\n",
       "      <td>6.10</td>\n",
       "      <td>128.00</td>\n",
       "      <td>4.00</td>\n",
       "      <td>175.00</td>\n",
       "    </tr>\n",
       "    <tr>\n",
       "      <th>75%</th>\n",
       "      <td>519.00</td>\n",
       "      <td>6.40</td>\n",
       "      <td>128.00</td>\n",
       "      <td>6.00</td>\n",
       "      <td>193.00</td>\n",
       "    </tr>\n",
       "    <tr>\n",
       "      <th>max</th>\n",
       "      <td>999.00</td>\n",
       "      <td>8.00</td>\n",
       "      <td>512.00</td>\n",
       "      <td>15.00</td>\n",
       "      <td>490.00</td>\n",
       "    </tr>\n",
       "  </tbody>\n",
       "</table>\n",
       "</div>"
      ],
      "text/plain": [
       "       prix_euro  taille_ecran_pouce  capacite_stockage_Go  memoire  poids_g\n",
       "count    2505.00             2505.00               2505.00  2505.00  2505.00\n",
       "mean      380.59                5.90                130.45     5.07   174.80\n",
       "std       217.86                0.66                109.42     2.76    27.08\n",
       "min        39.00                4.00                  4.00     0.51   110.00\n",
       "25%       205.00                5.50                 64.00     3.00   155.00\n",
       "50%       327.00                6.10                128.00     4.00   175.00\n",
       "75%       519.00                6.40                128.00     6.00   193.00\n",
       "max       999.00                8.00                512.00    15.00   490.00"
      ]
     },
     "execution_count": 78,
     "metadata": {},
     "output_type": "execute_result"
    }
   ],
   "source": [
    "round(data_final.describe(), 2)"
   ]
  }
 ],
 "metadata": {
  "kernelspec": {
   "display_name": "Python 3",
   "language": "python",
   "name": "python3"
  },
  "language_info": {
   "codemirror_mode": {
    "name": "ipython",
    "version": 3
   },
   "file_extension": ".py",
   "mimetype": "text/x-python",
   "name": "python",
   "nbconvert_exporter": "python",
   "pygments_lexer": "ipython3",
   "version": "3.8.8"
  },
  "toc-autonumbering": true
 },
 "nbformat": 4,
 "nbformat_minor": 5
}
