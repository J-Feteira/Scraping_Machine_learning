{
 "cells": [
  {
   "cell_type": "markdown",
   "id": "765e3a5b-f15a-4e66-b798-0699612a7f79",
   "metadata": {},
   "source": [
    "# Introduction\n",
    "\n",
    "L'objectif de ce projet était de réaliser une étude sur le marché des smartphones reconditionnés afin de déterminer quels smartphones ont un prix inférieur à celui du marché pour des caractéristiques données. \n",
    "\n",
    "Pour cela, j'ai scrapé le site de backmarket (https://www.backmarket.fr/), afin de récolter les prix et les caractéristiques et informations sur l'état des smartphones. J'ai lancé le scraping 2 fois étant donné que les annonces changent très régulièrement sur ce site.\n",
    "\n",
    "Ensuite, j'ai combiné et nettoyé les 2 bases de données. Une analyse descriptive de la base nettoyée a également été faite, afin de mieux comprendre les différentes variables.\n",
    "\n",
    "Enfin, les données ont été entrainé sur des modèles de machine learning afin de ressortir un modèle pour faire ressortir les smartphones ayant un prix en-dessous du prix prédit pour leurs caractéristiques."
   ]
  },
  {
   "cell_type": "markdown",
   "id": "ef80729c-db01-4e8f-9d0d-ea84f8be6f78",
   "metadata": {},
   "source": [
    "# Scraping"
   ]
  },
  {
   "cell_type": "markdown",
   "id": "957f8bb6-5327-4609-aa14-a7e98e488980",
   "metadata": {},
   "source": [
    "## Fonction principale pour le scraping"
   ]
  },
  {
   "cell_type": "code",
   "execution_count": 1,
   "id": "81f6bd53-92a4-497f-9ed4-cdc747678d55",
   "metadata": {},
   "outputs": [],
   "source": [
    "from Scraping import main"
   ]
  },
  {
   "cell_type": "code",
   "execution_count": null,
   "id": "900687af-ce36-418f-ba26-4e13d1dad20a",
   "metadata": {},
   "outputs": [],
   "source": [
    "main(nom_fichier=\"data_complete_1.json\")"
   ]
  },
  {
   "cell_type": "code",
   "execution_count": null,
   "id": "08bb8ceb-53b8-47f7-b6e2-b431bd2a3680",
   "metadata": {},
   "outputs": [],
   "source": [
    "main(nom_fichier=\"data_complete_2.json\")"
   ]
  },
  {
   "cell_type": "markdown",
   "id": "481fec9c-0879-45a3-a5a9-66adab729af6",
   "metadata": {},
   "source": [
    "La fonction `main` lance une session, en utilisant la classe Session, puis accepte les cookies et fait la recherche des smartphones. Ensuite, à chaque annonce cliquée, la classe Description permet de sauvegarder les caractéristiques importantes du smartphone et renvoit le tout dans un fichier `json`.\n",
    "\n",
    "Il y a un seul argument à lui passer pour un scraping complet : celui du nom de sauvegarde de la base de données au format `.json`."
   ]
  },
  {
   "cell_type": "markdown",
   "id": "9a6ce279-0ed1-4e6d-92ef-1afcbff04251",
   "metadata": {},
   "source": [
    "## Naviguer sur backmarket"
   ]
  },
  {
   "cell_type": "markdown",
   "id": "47f2aa23-dd57-4045-9556-6666d1f913c7",
   "metadata": {},
   "source": [
    "Pour lancer la session :"
   ]
  },
  {
   "cell_type": "code",
   "execution_count": 2,
   "id": "c8ed9e1e-2b7a-4eea-a1d0-e87a33b17d29",
   "metadata": {},
   "outputs": [],
   "source": [
    "from Scraping import Session"
   ]
  },
  {
   "cell_type": "code",
   "execution_count": 3,
   "id": "bd77a30f-7b75-4ca0-9b9e-0fadb9e2d2e9",
   "metadata": {},
   "outputs": [],
   "source": [
    "lien = \"https://www.backmarket.fr/\"\n",
    "nav = Session(lien)"
   ]
  },
  {
   "cell_type": "markdown",
   "id": "8841814a-9fa4-4699-8f3b-d72ba5bc2424",
   "metadata": {},
   "source": [
    "Pour agrandir la fenêtre :"
   ]
  },
  {
   "cell_type": "code",
   "execution_count": 4,
   "id": "df39f738-51bf-4d44-ab83-86cd1eb1ee5d",
   "metadata": {},
   "outputs": [],
   "source": [
    "nav.navigateur.maximize_window()"
   ]
  },
  {
   "cell_type": "markdown",
   "id": "0c558ddc-9277-4b81-9460-1a3823f27ac4",
   "metadata": {},
   "source": [
    "Pour accepter les cookies :"
   ]
  },
  {
   "cell_type": "code",
   "execution_count": 5,
   "id": "914713d0-a16a-4548-9e5e-f5eb96283624",
   "metadata": {},
   "outputs": [],
   "source": [
    "nav.accepter_cookies()"
   ]
  },
  {
   "cell_type": "markdown",
   "id": "1723471f-97df-4be8-8a26-e1785afce7bb",
   "metadata": {},
   "source": [
    "Pour chercher un bien matériel sur le site :"
   ]
  },
  {
   "cell_type": "code",
   "execution_count": 6,
   "id": "450194e7-b3d2-4d21-a761-cfd6c1b88f85",
   "metadata": {},
   "outputs": [],
   "source": [
    "element = \"smartphone\"\n",
    "nav.chercher_element(element)"
   ]
  },
  {
   "cell_type": "markdown",
   "id": "c74fe7e0-8f98-4a72-8bd4-d717b9f27f68",
   "metadata": {},
   "source": [
    "Pour cliquer sur toutes les annonces d'une même page et récupérer le descriptif :"
   ]
  },
  {
   "cell_type": "code",
   "execution_count": null,
   "id": "f0b27fe2-bd92-475f-a0da-b25783a8dd62",
   "metadata": {},
   "outputs": [],
   "source": [
    "nav.clique_annonce()"
   ]
  },
  {
   "cell_type": "markdown",
   "id": "607c3e13-782a-4911-96a5-2bc957f0c2e7",
   "metadata": {},
   "source": [
    "Pour parcourir les différentes pages de la recherche :"
   ]
  },
  {
   "cell_type": "code",
   "execution_count": 7,
   "id": "b7a65599-c3aa-41f6-b11d-f621872d40d5",
   "metadata": {},
   "outputs": [],
   "source": [
    "nav.change_page()"
   ]
  },
  {
   "cell_type": "markdown",
   "id": "a6a231dd-2115-4348-9c77-ec52980f2482",
   "metadata": {},
   "source": [
    "Pour récupérer le lien de l'annonce :"
   ]
  },
  {
   "cell_type": "code",
   "execution_count": null,
   "id": "096d5c21-e3ea-45c1-8860-45c487dfeaff",
   "metadata": {},
   "outputs": [],
   "source": [
    "lien = nav.navigateur.current_url"
   ]
  },
  {
   "cell_type": "markdown",
   "id": "2c12583f-e47c-43b8-8b00-9774505bc513",
   "metadata": {},
   "source": [
    "Pour quitter le navigateur proprement :"
   ]
  },
  {
   "cell_type": "code",
   "execution_count": 8,
   "id": "026743b1-b718-47af-b666-c94e2b22e9c1",
   "metadata": {},
   "outputs": [],
   "source": [
    "nav.navigateur.quit()"
   ]
  },
  {
   "cell_type": "markdown",
   "id": "55ed9e40-1ae4-416f-ae24-ed7461d1d1e2",
   "metadata": {},
   "source": [
    "# Nettoyage données"
   ]
  },
  {
   "cell_type": "code",
   "execution_count": 1,
   "id": "cc895a37-9151-4cdd-8f7a-90334727537e",
   "metadata": {},
   "outputs": [],
   "source": [
    "from Nettoyage import recupere_bases_de_donnees_complete, nettoie_donnees, sauvegarde_csv\n",
    "import os"
   ]
  },
  {
   "cell_type": "code",
   "execution_count": 2,
   "id": "d025df53-9e39-4737-a3ca-0a5c313fb774",
   "metadata": {},
   "outputs": [],
   "source": [
    "path = os.path.abspath(os.getcwd())"
   ]
  },
  {
   "cell_type": "markdown",
   "id": "890af8cf-e2db-4258-9b00-d292f79bb5d0",
   "metadata": {},
   "source": [
    "Pour récupérer la base de donnée complète :"
   ]
  },
  {
   "cell_type": "code",
   "execution_count": 3,
   "id": "2e201d0d-3973-430f-88c5-c5b8b0e1af4e",
   "metadata": {},
   "outputs": [],
   "source": [
    "data = recupere_bases_de_donnees_complete(path + \"\\Donnees\")"
   ]
  },
  {
   "cell_type": "markdown",
   "id": "e04406a9-1f28-499f-bc8a-5663efc6412c",
   "metadata": {},
   "source": [
    "Ensuite, on nettoie les données :"
   ]
  },
  {
   "cell_type": "code",
   "execution_count": 4,
   "id": "8a8359c7-170a-43fe-91c4-6815ec9cb76e",
   "metadata": {},
   "outputs": [],
   "source": [
    "data_final = nettoie_donnees(data)"
   ]
  },
  {
   "cell_type": "code",
   "execution_count": 5,
   "id": "5633d250-f36a-49ef-adb0-9502569fd2b0",
   "metadata": {},
   "outputs": [
    {
     "data": {
      "text/html": [
       "<div>\n",
       "<style scoped>\n",
       "    .dataframe tbody tr th:only-of-type {\n",
       "        vertical-align: middle;\n",
       "    }\n",
       "\n",
       "    .dataframe tbody tr th {\n",
       "        vertical-align: top;\n",
       "    }\n",
       "\n",
       "    .dataframe thead th {\n",
       "        text-align: right;\n",
       "    }\n",
       "</style>\n",
       "<table border=\"1\" class=\"dataframe\">\n",
       "  <thead>\n",
       "    <tr style=\"text-align: right;\">\n",
       "      <th></th>\n",
       "      <th>etat</th>\n",
       "      <th>marque</th>\n",
       "      <th>prix_euro</th>\n",
       "      <th>couleur</th>\n",
       "      <th>taille_ecran_pouce</th>\n",
       "      <th>capacite_stockage_Go</th>\n",
       "      <th>megapixel</th>\n",
       "      <th>systeme_exploitation</th>\n",
       "      <th>resolution_ecran</th>\n",
       "      <th>reseau</th>\n",
       "      <th>date_de_sortie</th>\n",
       "      <th>memoire</th>\n",
       "      <th>connecteur</th>\n",
       "      <th>double_sim</th>\n",
       "      <th>port_carte_SD</th>\n",
       "      <th>pliable</th>\n",
       "      <th>poids_g</th>\n",
       "    </tr>\n",
       "  </thead>\n",
       "  <tbody>\n",
       "    <tr>\n",
       "      <th>0</th>\n",
       "      <td>État correct</td>\n",
       "      <td>apple</td>\n",
       "      <td>201.0</td>\n",
       "      <td>gris sidéral</td>\n",
       "      <td>4.7</td>\n",
       "      <td>64.0</td>\n",
       "      <td>12</td>\n",
       "      <td>iOS</td>\n",
       "      <td>750x1334</td>\n",
       "      <td>4G</td>\n",
       "      <td>2017</td>\n",
       "      <td>2.0</td>\n",
       "      <td>Lightning</td>\n",
       "      <td>Non</td>\n",
       "      <td>Non</td>\n",
       "      <td>Non</td>\n",
       "      <td>148</td>\n",
       "    </tr>\n",
       "    <tr>\n",
       "      <th>1</th>\n",
       "      <td>Très bon état</td>\n",
       "      <td>apple</td>\n",
       "      <td>213.0</td>\n",
       "      <td>gris sidéral</td>\n",
       "      <td>4.7</td>\n",
       "      <td>64.0</td>\n",
       "      <td>12</td>\n",
       "      <td>iOS</td>\n",
       "      <td>750x1334</td>\n",
       "      <td>4G</td>\n",
       "      <td>2017</td>\n",
       "      <td>2.0</td>\n",
       "      <td>Lightning</td>\n",
       "      <td>Non</td>\n",
       "      <td>Non</td>\n",
       "      <td>Non</td>\n",
       "      <td>148</td>\n",
       "    </tr>\n",
       "    <tr>\n",
       "      <th>2</th>\n",
       "      <td>Parfait état</td>\n",
       "      <td>apple</td>\n",
       "      <td>263.0</td>\n",
       "      <td>gris sidéral</td>\n",
       "      <td>4.7</td>\n",
       "      <td>64.0</td>\n",
       "      <td>12</td>\n",
       "      <td>iOS</td>\n",
       "      <td>750x1334</td>\n",
       "      <td>4G</td>\n",
       "      <td>2017</td>\n",
       "      <td>2.0</td>\n",
       "      <td>Lightning</td>\n",
       "      <td>Non</td>\n",
       "      <td>Non</td>\n",
       "      <td>Non</td>\n",
       "      <td>148</td>\n",
       "    </tr>\n",
       "    <tr>\n",
       "      <th>3</th>\n",
       "      <td>État correct</td>\n",
       "      <td>apple</td>\n",
       "      <td>358.0</td>\n",
       "      <td>noir</td>\n",
       "      <td>6.1</td>\n",
       "      <td>64.0</td>\n",
       "      <td>12</td>\n",
       "      <td>iOS</td>\n",
       "      <td>828x1792</td>\n",
       "      <td>4G</td>\n",
       "      <td>2018</td>\n",
       "      <td>3.0</td>\n",
       "      <td>Lightning</td>\n",
       "      <td>Non</td>\n",
       "      <td>Non</td>\n",
       "      <td>Non</td>\n",
       "      <td>194</td>\n",
       "    </tr>\n",
       "    <tr>\n",
       "      <th>4</th>\n",
       "      <td>Très bon état</td>\n",
       "      <td>apple</td>\n",
       "      <td>379.0</td>\n",
       "      <td>noir</td>\n",
       "      <td>6.1</td>\n",
       "      <td>64.0</td>\n",
       "      <td>12</td>\n",
       "      <td>iOS</td>\n",
       "      <td>828x1792</td>\n",
       "      <td>4G</td>\n",
       "      <td>2018</td>\n",
       "      <td>3.0</td>\n",
       "      <td>Lightning</td>\n",
       "      <td>Non</td>\n",
       "      <td>Non</td>\n",
       "      <td>Non</td>\n",
       "      <td>194</td>\n",
       "    </tr>\n",
       "    <tr>\n",
       "      <th>...</th>\n",
       "      <td>...</td>\n",
       "      <td>...</td>\n",
       "      <td>...</td>\n",
       "      <td>...</td>\n",
       "      <td>...</td>\n",
       "      <td>...</td>\n",
       "      <td>...</td>\n",
       "      <td>...</td>\n",
       "      <td>...</td>\n",
       "      <td>...</td>\n",
       "      <td>...</td>\n",
       "      <td>...</td>\n",
       "      <td>...</td>\n",
       "      <td>...</td>\n",
       "      <td>...</td>\n",
       "      <td>...</td>\n",
       "      <td>...</td>\n",
       "    </tr>\n",
       "    <tr>\n",
       "      <th>2499</th>\n",
       "      <td>Très bon état</td>\n",
       "      <td>samsung</td>\n",
       "      <td>699.0</td>\n",
       "      <td>noir</td>\n",
       "      <td>6.8</td>\n",
       "      <td>512.0</td>\n",
       "      <td>12</td>\n",
       "      <td>Android</td>\n",
       "      <td>1440x3040</td>\n",
       "      <td>4G</td>\n",
       "      <td>2019</td>\n",
       "      <td>12.0</td>\n",
       "      <td>USB-C</td>\n",
       "      <td>Non</td>\n",
       "      <td>Oui</td>\n",
       "      <td>Non</td>\n",
       "      <td>196</td>\n",
       "    </tr>\n",
       "    <tr>\n",
       "      <th>2500</th>\n",
       "      <td>Parfait état</td>\n",
       "      <td>samsung</td>\n",
       "      <td>999.0</td>\n",
       "      <td>noir</td>\n",
       "      <td>6.8</td>\n",
       "      <td>512.0</td>\n",
       "      <td>12</td>\n",
       "      <td>Android</td>\n",
       "      <td>1440x3040</td>\n",
       "      <td>4G</td>\n",
       "      <td>2019</td>\n",
       "      <td>12.0</td>\n",
       "      <td>USB-C</td>\n",
       "      <td>Non</td>\n",
       "      <td>Oui</td>\n",
       "      <td>Non</td>\n",
       "      <td>196</td>\n",
       "    </tr>\n",
       "    <tr>\n",
       "      <th>2501</th>\n",
       "      <td>Parfait état</td>\n",
       "      <td>samsung</td>\n",
       "      <td>969.0</td>\n",
       "      <td>lavande</td>\n",
       "      <td>6.7</td>\n",
       "      <td>128.0</td>\n",
       "      <td>12</td>\n",
       "      <td>Android</td>\n",
       "      <td>1080x2640</td>\n",
       "      <td>5G</td>\n",
       "      <td>2021</td>\n",
       "      <td>8.0</td>\n",
       "      <td>USB-C + Jack 3.5mm</td>\n",
       "      <td>Oui</td>\n",
       "      <td>Non</td>\n",
       "      <td>Oui</td>\n",
       "      <td>183</td>\n",
       "    </tr>\n",
       "    <tr>\n",
       "      <th>2502</th>\n",
       "      <td>État correct</td>\n",
       "      <td>orange</td>\n",
       "      <td>39.0</td>\n",
       "      <td>noir</td>\n",
       "      <td>5.0</td>\n",
       "      <td>8.0</td>\n",
       "      <td>5</td>\n",
       "      <td>Android</td>\n",
       "      <td>480x854</td>\n",
       "      <td>3G</td>\n",
       "      <td>2017</td>\n",
       "      <td>8.0</td>\n",
       "      <td>micro USB + Jack 3.5mm</td>\n",
       "      <td>Non</td>\n",
       "      <td>Oui</td>\n",
       "      <td>Non</td>\n",
       "      <td>169</td>\n",
       "    </tr>\n",
       "    <tr>\n",
       "      <th>2503</th>\n",
       "      <td>Très bon état</td>\n",
       "      <td>orange</td>\n",
       "      <td>49.0</td>\n",
       "      <td>noir</td>\n",
       "      <td>5.0</td>\n",
       "      <td>8.0</td>\n",
       "      <td>5</td>\n",
       "      <td>Android</td>\n",
       "      <td>480x854</td>\n",
       "      <td>3G</td>\n",
       "      <td>2017</td>\n",
       "      <td>8.0</td>\n",
       "      <td>micro USB + Jack 3.5mm</td>\n",
       "      <td>Non</td>\n",
       "      <td>Oui</td>\n",
       "      <td>Non</td>\n",
       "      <td>169</td>\n",
       "    </tr>\n",
       "  </tbody>\n",
       "</table>\n",
       "<p>2504 rows × 17 columns</p>\n",
       "</div>"
      ],
      "text/plain": [
       "               etat   marque  prix_euro       couleur  taille_ecran_pouce  \\\n",
       "0      État correct    apple      201.0  gris sidéral                 4.7   \n",
       "1     Très bon état    apple      213.0  gris sidéral                 4.7   \n",
       "2      Parfait état    apple      263.0  gris sidéral                 4.7   \n",
       "3      État correct    apple      358.0          noir                 6.1   \n",
       "4     Très bon état    apple      379.0          noir                 6.1   \n",
       "...             ...      ...        ...           ...                 ...   \n",
       "2499  Très bon état  samsung      699.0          noir                 6.8   \n",
       "2500   Parfait état  samsung      999.0          noir                 6.8   \n",
       "2501   Parfait état  samsung      969.0       lavande                 6.7   \n",
       "2502   État correct   orange       39.0          noir                 5.0   \n",
       "2503  Très bon état   orange       49.0          noir                 5.0   \n",
       "\n",
       "      capacite_stockage_Go megapixel systeme_exploitation resolution_ecran  \\\n",
       "0                     64.0        12                  iOS         750x1334   \n",
       "1                     64.0        12                  iOS         750x1334   \n",
       "2                     64.0        12                  iOS         750x1334   \n",
       "3                     64.0        12                  iOS         828x1792   \n",
       "4                     64.0        12                  iOS         828x1792   \n",
       "...                    ...       ...                  ...              ...   \n",
       "2499                 512.0        12              Android        1440x3040   \n",
       "2500                 512.0        12              Android        1440x3040   \n",
       "2501                 128.0        12              Android        1080x2640   \n",
       "2502                   8.0         5              Android          480x854   \n",
       "2503                   8.0         5              Android          480x854   \n",
       "\n",
       "     reseau date_de_sortie  memoire              connecteur double_sim  \\\n",
       "0        4G           2017      2.0               Lightning        Non   \n",
       "1        4G           2017      2.0               Lightning        Non   \n",
       "2        4G           2017      2.0               Lightning        Non   \n",
       "3        4G           2018      3.0               Lightning        Non   \n",
       "4        4G           2018      3.0               Lightning        Non   \n",
       "...     ...            ...      ...                     ...        ...   \n",
       "2499     4G           2019     12.0                   USB-C        Non   \n",
       "2500     4G           2019     12.0                   USB-C        Non   \n",
       "2501     5G           2021      8.0      USB-C + Jack 3.5mm        Oui   \n",
       "2502     3G           2017      8.0  micro USB + Jack 3.5mm        Non   \n",
       "2503     3G           2017      8.0  micro USB + Jack 3.5mm        Non   \n",
       "\n",
       "     port_carte_SD pliable  poids_g  \n",
       "0              Non     Non      148  \n",
       "1              Non     Non      148  \n",
       "2              Non     Non      148  \n",
       "3              Non     Non      194  \n",
       "4              Non     Non      194  \n",
       "...            ...     ...      ...  \n",
       "2499           Oui     Non      196  \n",
       "2500           Oui     Non      196  \n",
       "2501           Non     Oui      183  \n",
       "2502           Oui     Non      169  \n",
       "2503           Oui     Non      169  \n",
       "\n",
       "[2504 rows x 17 columns]"
      ]
     },
     "execution_count": 5,
     "metadata": {},
     "output_type": "execute_result"
    }
   ],
   "source": [
    "data_final"
   ]
  },
  {
   "cell_type": "markdown",
   "id": "16d813da-ea27-4adf-97cc-f354ff34ec36",
   "metadata": {},
   "source": [
    "Nous pouvons également sauvegarder en csv la base de données nettoyée :"
   ]
  },
  {
   "cell_type": "code",
   "execution_count": 6,
   "id": "4899f811-9d2f-4170-8697-41318121b14a",
   "metadata": {},
   "outputs": [
    {
     "data": {
      "text/plain": [
       "'Base de données sauvegardée.'"
      ]
     },
     "execution_count": 6,
     "metadata": {},
     "output_type": "execute_result"
    }
   ],
   "source": [
    "sauvegarde_csv(path+\"\\Donnees\", data_final)"
   ]
  },
  {
   "cell_type": "markdown",
   "id": "3a86921f-f145-4bee-bd49-eb8e138a8659",
   "metadata": {},
   "source": [
    "La base de données finale comporte 2504 observations et 17 variables :\n",
    "- etat\n",
    "- marque\n",
    "- prix_euro\n",
    "- couleur\n",
    "- taille_ecran_pouce\n",
    "- capacite_stockage_Go\n",
    "- megapixel\n",
    "- systeme_exploitation\n",
    "- resolution_ecran\n",
    "- reseau\n",
    "- date_de_sortie\n",
    "- memoire\n",
    "- connecteur\n",
    "- double_sim\n",
    "- port_carte_SD\n",
    "- pliable\n",
    "- poids_g"
   ]
  },
  {
   "cell_type": "markdown",
   "id": "6d03d133-43cb-4ed2-a38a-2ef308d6e5ab",
   "metadata": {},
   "source": [
    "Pour plus d'informations sur les variables, il est conseillé d'aller regarder le fichier `analyse_descriptive`. De plus, le module `Tests` permet d'avoir une première vérification sur les fonctions de nettoyage pour chaque variable."
   ]
  },
  {
   "cell_type": "markdown",
   "id": "685eb8af-6600-411b-98c8-03ee7fb84cb8",
   "metadata": {},
   "source": [
    "# Machine learning\n",
    "\n",
    "Pour la partie de machine learning, la variable à expliquer est les prix en euro et les variables explicatives sont celles listées ci-dessus. Pour ce qui est de la variable `prix_euro`, j'ai décidé d'utiliser les déciles. Ce choix se porte sur le fait que dans l'analyse descriptive, on a pu remarquer que les prix semblaient plutôt suivre une loi normale centrée en 200. Prendre les déciles permet d'avoir assez de classes pour la prédiction, sans en avoir de trop. Cela permet notamment de capter les extrémités et de délimiter un peu plus les prix où la densité est la plus élevé, c'est-à-dire au niveau de 200."
   ]
  },
  {
   "cell_type": "markdown",
   "id": "d86c1eaf-a5c0-410e-badf-7dbcfa866158",
   "metadata": {},
   "source": [
    "## Apprentissage"
   ]
  },
  {
   "cell_type": "code",
   "execution_count": 6,
   "id": "ce9a2de4-c1e5-4908-b269-36a1edf5384d",
   "metadata": {},
   "outputs": [],
   "source": [
    "from Machine_learning import (\n",
    "    genere_configuration, chargement_configuration, affichage_configuration, \n",
    "    apprentissage_modele, modifie_dataframe, visualisation_apprentissage\n",
    ")"
   ]
  },
  {
   "cell_type": "code",
   "execution_count": 7,
   "id": "f14a57f8-f605-4641-8494-2f3ac0ad3bc8",
   "metadata": {},
   "outputs": [],
   "source": [
    "import pandas as pd\n",
    "import os\n",
    "import pickle"
   ]
  },
  {
   "cell_type": "code",
   "execution_count": 8,
   "id": "c420623a-a9be-461c-8561-68d776b7b130",
   "metadata": {},
   "outputs": [],
   "source": [
    "path = os.path.abspath(os.getcwd())"
   ]
  },
  {
   "cell_type": "markdown",
   "id": "f0fbce1d-e71c-43ab-93b3-abeb44fa1aca",
   "metadata": {},
   "source": [
    "Permet de générer la configuration dans un fichier yaml :"
   ]
  },
  {
   "cell_type": "code",
   "execution_count": 9,
   "id": "4e98e591-76d1-4406-903c-77456aa55bb9",
   "metadata": {},
   "outputs": [],
   "source": [
    "genere_configuration(\"config.yaml\")"
   ]
  },
  {
   "cell_type": "code",
   "execution_count": 10,
   "id": "c8ff5b25-56b5-4ecc-9d8a-359c37c86ddb",
   "metadata": {},
   "outputs": [
    {
     "data": {
      "text/plain": [
       "Config(arbre_decision=Arbre(config_vide=False, longueur_arbre=[1, 3, 5, 7], nombre_noeuds=[2, 4, 6], parametre_complexite=[0.0, 1.0, 2.0]), bayesien=Bayesien(config_vide=False, alpha=[0.001, 0.01, 0.1, 1.0]), benet=Benet(config_vide=False, strategies=[<Strategie.PRIOR: 'prior'>, <Strategie.STRATIFIED: 'stratified'>, <Strategie.UNIFORM: 'uniform'>]), foret=Foret(config_vide=False, longueur_arbre=[1, 5, 10, 25], nombre_estimateurs=[10, 100, 250, 400]), k_voisins=KVoisins(config_vide=False, nombre_voisins=[1, 5, 11, 20], type_distance=[1, 2]), neurones=Neurones(config_vide=False, architecture=[[100], [50, 50]], alpha=[0.001, 0.1], max_iter=[500, 1000, 10000]), support_vecteurs=SupportVecteurs(config_vide=False, regularisation=[0.1, 1.0, 5.0]))"
      ]
     },
     "execution_count": 10,
     "metadata": {},
     "output_type": "execute_result"
    }
   ],
   "source": [
    "chargement_configuration(\"config.yaml\")"
   ]
  },
  {
   "cell_type": "markdown",
   "id": "076eac28-457d-4af5-aef1-0ec1d9eed056",
   "metadata": {},
   "source": [
    "On visualise la configuration :"
   ]
  },
  {
   "cell_type": "code",
   "execution_count": 11,
   "id": "a4fb91ae-4bf0-432f-a9bc-a49d077d6251",
   "metadata": {},
   "outputs": [
    {
     "data": {
      "text/html": [
       "<pre style=\"white-space:pre;overflow-x:auto;line-height:normal;font-family:Menlo,'DejaVu Sans Mono',consolas,'Courier New',monospace\"><span style=\"color: #800080; text-decoration-color: #800080; font-weight: bold\">Config</span><span style=\"font-weight: bold\">(</span>\n",
       "    <span style=\"color: #808000; text-decoration-color: #808000\">arbre_decision</span>=<span style=\"color: #800080; text-decoration-color: #800080; font-weight: bold\">Arbre</span><span style=\"font-weight: bold\">(</span>\n",
       "        <span style=\"color: #808000; text-decoration-color: #808000\">config_vide</span>=<span style=\"color: #ff0000; text-decoration-color: #ff0000; font-style: italic\">False</span>,\n",
       "        <span style=\"color: #808000; text-decoration-color: #808000\">longueur_arbre</span>=<span style=\"font-weight: bold\">[</span><span style=\"color: #008080; text-decoration-color: #008080; font-weight: bold\">1</span>, <span style=\"color: #008080; text-decoration-color: #008080; font-weight: bold\">3</span>, <span style=\"color: #008080; text-decoration-color: #008080; font-weight: bold\">5</span>, <span style=\"color: #008080; text-decoration-color: #008080; font-weight: bold\">7</span><span style=\"font-weight: bold\">]</span>,\n",
       "        <span style=\"color: #808000; text-decoration-color: #808000\">nombre_noeuds</span>=<span style=\"font-weight: bold\">[</span><span style=\"color: #008080; text-decoration-color: #008080; font-weight: bold\">2</span>, <span style=\"color: #008080; text-decoration-color: #008080; font-weight: bold\">4</span>, <span style=\"color: #008080; text-decoration-color: #008080; font-weight: bold\">6</span><span style=\"font-weight: bold\">]</span>,\n",
       "        <span style=\"color: #808000; text-decoration-color: #808000\">parametre_complexite</span>=<span style=\"font-weight: bold\">[</span><span style=\"color: #008080; text-decoration-color: #008080; font-weight: bold\">0.0</span>, <span style=\"color: #008080; text-decoration-color: #008080; font-weight: bold\">1.0</span>, <span style=\"color: #008080; text-decoration-color: #008080; font-weight: bold\">2.0</span><span style=\"font-weight: bold\">]</span>\n",
       "    <span style=\"font-weight: bold\">)</span>,\n",
       "    <span style=\"color: #808000; text-decoration-color: #808000\">bayesien</span>=<span style=\"color: #800080; text-decoration-color: #800080; font-weight: bold\">Bayesien</span><span style=\"font-weight: bold\">(</span><span style=\"color: #808000; text-decoration-color: #808000\">config_vide</span>=<span style=\"color: #ff0000; text-decoration-color: #ff0000; font-style: italic\">False</span>, <span style=\"color: #808000; text-decoration-color: #808000\">alpha</span>=<span style=\"font-weight: bold\">[</span><span style=\"color: #008080; text-decoration-color: #008080; font-weight: bold\">0.001</span>, <span style=\"color: #008080; text-decoration-color: #008080; font-weight: bold\">0.01</span>, <span style=\"color: #008080; text-decoration-color: #008080; font-weight: bold\">0.1</span>, <span style=\"color: #008080; text-decoration-color: #008080; font-weight: bold\">1.0</span><span style=\"font-weight: bold\">])</span>,\n",
       "    <span style=\"color: #808000; text-decoration-color: #808000\">benet</span>=<span style=\"color: #800080; text-decoration-color: #800080; font-weight: bold\">Benet</span><span style=\"font-weight: bold\">(</span>\n",
       "        <span style=\"color: #808000; text-decoration-color: #808000\">config_vide</span>=<span style=\"color: #ff0000; text-decoration-color: #ff0000; font-style: italic\">False</span>,\n",
       "        <span style=\"color: #808000; text-decoration-color: #808000\">strategies</span>=<span style=\"font-weight: bold\">[</span>\n",
       "            <span style=\"font-weight: bold\">&lt;</span><span style=\"color: #ff00ff; text-decoration-color: #ff00ff; font-weight: bold\">Strategie.PRIOR:</span><span style=\"color: #000000; text-decoration-color: #000000\"> </span><span style=\"color: #008000; text-decoration-color: #008000\">'prior'</span><span style=\"font-weight: bold\">&gt;</span>,\n",
       "            <span style=\"font-weight: bold\">&lt;</span><span style=\"color: #ff00ff; text-decoration-color: #ff00ff; font-weight: bold\">Strategie.STRATIFIED:</span><span style=\"color: #000000; text-decoration-color: #000000\"> </span><span style=\"color: #008000; text-decoration-color: #008000\">'stratified'</span><span style=\"font-weight: bold\">&gt;</span>,\n",
       "            <span style=\"font-weight: bold\">&lt;</span><span style=\"color: #ff00ff; text-decoration-color: #ff00ff; font-weight: bold\">Strategie.UNIFORM:</span><span style=\"color: #000000; text-decoration-color: #000000\"> </span><span style=\"color: #008000; text-decoration-color: #008000\">'uniform'</span><span style=\"font-weight: bold\">&gt;</span>\n",
       "        <span style=\"font-weight: bold\">]</span>\n",
       "    <span style=\"font-weight: bold\">)</span>,\n",
       "    <span style=\"color: #808000; text-decoration-color: #808000\">foret</span>=<span style=\"color: #800080; text-decoration-color: #800080; font-weight: bold\">Foret</span><span style=\"font-weight: bold\">(</span>\n",
       "        <span style=\"color: #808000; text-decoration-color: #808000\">config_vide</span>=<span style=\"color: #ff0000; text-decoration-color: #ff0000; font-style: italic\">False</span>,\n",
       "        <span style=\"color: #808000; text-decoration-color: #808000\">longueur_arbre</span>=<span style=\"font-weight: bold\">[</span><span style=\"color: #008080; text-decoration-color: #008080; font-weight: bold\">1</span>, <span style=\"color: #008080; text-decoration-color: #008080; font-weight: bold\">5</span>, <span style=\"color: #008080; text-decoration-color: #008080; font-weight: bold\">10</span>, <span style=\"color: #008080; text-decoration-color: #008080; font-weight: bold\">25</span><span style=\"font-weight: bold\">]</span>,\n",
       "        <span style=\"color: #808000; text-decoration-color: #808000\">nombre_estimateurs</span>=<span style=\"font-weight: bold\">[</span><span style=\"color: #008080; text-decoration-color: #008080; font-weight: bold\">10</span>, <span style=\"color: #008080; text-decoration-color: #008080; font-weight: bold\">100</span>, <span style=\"color: #008080; text-decoration-color: #008080; font-weight: bold\">250</span>, <span style=\"color: #008080; text-decoration-color: #008080; font-weight: bold\">400</span><span style=\"font-weight: bold\">]</span>\n",
       "    <span style=\"font-weight: bold\">)</span>,\n",
       "    <span style=\"color: #808000; text-decoration-color: #808000\">k_voisins</span>=<span style=\"color: #800080; text-decoration-color: #800080; font-weight: bold\">KVoisins</span><span style=\"font-weight: bold\">(</span>\n",
       "        <span style=\"color: #808000; text-decoration-color: #808000\">config_vide</span>=<span style=\"color: #ff0000; text-decoration-color: #ff0000; font-style: italic\">False</span>,\n",
       "        <span style=\"color: #808000; text-decoration-color: #808000\">nombre_voisins</span>=<span style=\"font-weight: bold\">[</span><span style=\"color: #008080; text-decoration-color: #008080; font-weight: bold\">1</span>, <span style=\"color: #008080; text-decoration-color: #008080; font-weight: bold\">5</span>, <span style=\"color: #008080; text-decoration-color: #008080; font-weight: bold\">11</span>, <span style=\"color: #008080; text-decoration-color: #008080; font-weight: bold\">20</span><span style=\"font-weight: bold\">]</span>,\n",
       "        <span style=\"color: #808000; text-decoration-color: #808000\">type_distance</span>=<span style=\"font-weight: bold\">[</span><span style=\"color: #008080; text-decoration-color: #008080; font-weight: bold\">1</span>, <span style=\"color: #008080; text-decoration-color: #008080; font-weight: bold\">2</span><span style=\"font-weight: bold\">]</span>\n",
       "    <span style=\"font-weight: bold\">)</span>,\n",
       "    <span style=\"color: #808000; text-decoration-color: #808000\">neurones</span>=<span style=\"color: #800080; text-decoration-color: #800080; font-weight: bold\">Neurones</span><span style=\"font-weight: bold\">(</span>\n",
       "        <span style=\"color: #808000; text-decoration-color: #808000\">config_vide</span>=<span style=\"color: #ff0000; text-decoration-color: #ff0000; font-style: italic\">False</span>,\n",
       "        <span style=\"color: #808000; text-decoration-color: #808000\">architecture</span>=<span style=\"font-weight: bold\">[[</span><span style=\"color: #008080; text-decoration-color: #008080; font-weight: bold\">100</span><span style=\"font-weight: bold\">]</span>, <span style=\"font-weight: bold\">[</span><span style=\"color: #008080; text-decoration-color: #008080; font-weight: bold\">50</span>, <span style=\"color: #008080; text-decoration-color: #008080; font-weight: bold\">50</span><span style=\"font-weight: bold\">]]</span>,\n",
       "        <span style=\"color: #808000; text-decoration-color: #808000\">alpha</span>=<span style=\"font-weight: bold\">[</span><span style=\"color: #008080; text-decoration-color: #008080; font-weight: bold\">0.001</span>, <span style=\"color: #008080; text-decoration-color: #008080; font-weight: bold\">0.1</span><span style=\"font-weight: bold\">]</span>,\n",
       "        <span style=\"color: #808000; text-decoration-color: #808000\">max_iter</span>=<span style=\"font-weight: bold\">[</span><span style=\"color: #008080; text-decoration-color: #008080; font-weight: bold\">500</span>, <span style=\"color: #008080; text-decoration-color: #008080; font-weight: bold\">1000</span>, <span style=\"color: #008080; text-decoration-color: #008080; font-weight: bold\">10000</span><span style=\"font-weight: bold\">]</span>\n",
       "    <span style=\"font-weight: bold\">)</span>,\n",
       "    <span style=\"color: #808000; text-decoration-color: #808000\">support_vecteurs</span>=<span style=\"color: #800080; text-decoration-color: #800080; font-weight: bold\">SupportVecteurs</span><span style=\"font-weight: bold\">(</span><span style=\"color: #808000; text-decoration-color: #808000\">config_vide</span>=<span style=\"color: #ff0000; text-decoration-color: #ff0000; font-style: italic\">False</span>, <span style=\"color: #808000; text-decoration-color: #808000\">regularisation</span>=<span style=\"font-weight: bold\">[</span><span style=\"color: #008080; text-decoration-color: #008080; font-weight: bold\">0.1</span>, <span style=\"color: #008080; text-decoration-color: #008080; font-weight: bold\">1.0</span>, <span style=\"color: #008080; text-decoration-color: #008080; font-weight: bold\">5.0</span><span style=\"font-weight: bold\">])</span>\n",
       "<span style=\"font-weight: bold\">)</span>\n",
       "</pre>\n"
      ],
      "text/plain": [
       "\u001b[1;35mConfig\u001b[0m\u001b[1m(\u001b[0m\n",
       "    \u001b[33marbre_decision\u001b[0m=\u001b[1;35mArbre\u001b[0m\u001b[1m(\u001b[0m\n",
       "        \u001b[33mconfig_vide\u001b[0m=\u001b[3;91mFalse\u001b[0m,\n",
       "        \u001b[33mlongueur_arbre\u001b[0m=\u001b[1m[\u001b[0m\u001b[1;36m1\u001b[0m, \u001b[1;36m3\u001b[0m, \u001b[1;36m5\u001b[0m, \u001b[1;36m7\u001b[0m\u001b[1m]\u001b[0m,\n",
       "        \u001b[33mnombre_noeuds\u001b[0m=\u001b[1m[\u001b[0m\u001b[1;36m2\u001b[0m, \u001b[1;36m4\u001b[0m, \u001b[1;36m6\u001b[0m\u001b[1m]\u001b[0m,\n",
       "        \u001b[33mparametre_complexite\u001b[0m=\u001b[1m[\u001b[0m\u001b[1;36m0.0\u001b[0m, \u001b[1;36m1.0\u001b[0m, \u001b[1;36m2.0\u001b[0m\u001b[1m]\u001b[0m\n",
       "    \u001b[1m)\u001b[0m,\n",
       "    \u001b[33mbayesien\u001b[0m=\u001b[1;35mBayesien\u001b[0m\u001b[1m(\u001b[0m\u001b[33mconfig_vide\u001b[0m=\u001b[3;91mFalse\u001b[0m, \u001b[33malpha\u001b[0m=\u001b[1m[\u001b[0m\u001b[1;36m0.001\u001b[0m, \u001b[1;36m0.01\u001b[0m, \u001b[1;36m0.1\u001b[0m, \u001b[1;36m1.0\u001b[0m\u001b[1m]\u001b[0m\u001b[1m)\u001b[0m,\n",
       "    \u001b[33mbenet\u001b[0m=\u001b[1;35mBenet\u001b[0m\u001b[1m(\u001b[0m\n",
       "        \u001b[33mconfig_vide\u001b[0m=\u001b[3;91mFalse\u001b[0m,\n",
       "        \u001b[33mstrategies\u001b[0m=\u001b[1m[\u001b[0m\n",
       "            \u001b[1m<\u001b[0m\u001b[1;95mStrategie.PRIOR:\u001b[0m\u001b[39m \u001b[0m\u001b[32m'prior'\u001b[0m\u001b[1m>\u001b[0m,\n",
       "            \u001b[1m<\u001b[0m\u001b[1;95mStrategie.STRATIFIED:\u001b[0m\u001b[39m \u001b[0m\u001b[32m'stratified'\u001b[0m\u001b[1m>\u001b[0m,\n",
       "            \u001b[1m<\u001b[0m\u001b[1;95mStrategie.UNIFORM:\u001b[0m\u001b[39m \u001b[0m\u001b[32m'uniform'\u001b[0m\u001b[1m>\u001b[0m\n",
       "        \u001b[1m]\u001b[0m\n",
       "    \u001b[1m)\u001b[0m,\n",
       "    \u001b[33mforet\u001b[0m=\u001b[1;35mForet\u001b[0m\u001b[1m(\u001b[0m\n",
       "        \u001b[33mconfig_vide\u001b[0m=\u001b[3;91mFalse\u001b[0m,\n",
       "        \u001b[33mlongueur_arbre\u001b[0m=\u001b[1m[\u001b[0m\u001b[1;36m1\u001b[0m, \u001b[1;36m5\u001b[0m, \u001b[1;36m10\u001b[0m, \u001b[1;36m25\u001b[0m\u001b[1m]\u001b[0m,\n",
       "        \u001b[33mnombre_estimateurs\u001b[0m=\u001b[1m[\u001b[0m\u001b[1;36m10\u001b[0m, \u001b[1;36m100\u001b[0m, \u001b[1;36m250\u001b[0m, \u001b[1;36m400\u001b[0m\u001b[1m]\u001b[0m\n",
       "    \u001b[1m)\u001b[0m,\n",
       "    \u001b[33mk_voisins\u001b[0m=\u001b[1;35mKVoisins\u001b[0m\u001b[1m(\u001b[0m\n",
       "        \u001b[33mconfig_vide\u001b[0m=\u001b[3;91mFalse\u001b[0m,\n",
       "        \u001b[33mnombre_voisins\u001b[0m=\u001b[1m[\u001b[0m\u001b[1;36m1\u001b[0m, \u001b[1;36m5\u001b[0m, \u001b[1;36m11\u001b[0m, \u001b[1;36m20\u001b[0m\u001b[1m]\u001b[0m,\n",
       "        \u001b[33mtype_distance\u001b[0m=\u001b[1m[\u001b[0m\u001b[1;36m1\u001b[0m, \u001b[1;36m2\u001b[0m\u001b[1m]\u001b[0m\n",
       "    \u001b[1m)\u001b[0m,\n",
       "    \u001b[33mneurones\u001b[0m=\u001b[1;35mNeurones\u001b[0m\u001b[1m(\u001b[0m\n",
       "        \u001b[33mconfig_vide\u001b[0m=\u001b[3;91mFalse\u001b[0m,\n",
       "        \u001b[33marchitecture\u001b[0m=\u001b[1m[\u001b[0m\u001b[1m[\u001b[0m\u001b[1;36m100\u001b[0m\u001b[1m]\u001b[0m, \u001b[1m[\u001b[0m\u001b[1;36m50\u001b[0m, \u001b[1;36m50\u001b[0m\u001b[1m]\u001b[0m\u001b[1m]\u001b[0m,\n",
       "        \u001b[33malpha\u001b[0m=\u001b[1m[\u001b[0m\u001b[1;36m0.001\u001b[0m, \u001b[1;36m0.1\u001b[0m\u001b[1m]\u001b[0m,\n",
       "        \u001b[33mmax_iter\u001b[0m=\u001b[1m[\u001b[0m\u001b[1;36m500\u001b[0m, \u001b[1;36m1000\u001b[0m, \u001b[1;36m10000\u001b[0m\u001b[1m]\u001b[0m\n",
       "    \u001b[1m)\u001b[0m,\n",
       "    \u001b[33msupport_vecteurs\u001b[0m=\u001b[1;35mSupportVecteurs\u001b[0m\u001b[1m(\u001b[0m\u001b[33mconfig_vide\u001b[0m=\u001b[3;91mFalse\u001b[0m, \u001b[33mregularisation\u001b[0m=\u001b[1m[\u001b[0m\u001b[1;36m0.1\u001b[0m, \u001b[1;36m1.0\u001b[0m, \u001b[1;36m5.0\u001b[0m\u001b[1m]\u001b[0m\u001b[1m)\u001b[0m\n",
       "\u001b[1m)\u001b[0m\n"
      ]
     },
     "metadata": {},
     "output_type": "display_data"
    }
   ],
   "source": [
    "affichage_configuration(\"config.yaml\")"
   ]
  },
  {
   "cell_type": "markdown",
   "id": "d1f88930-c1ab-4b56-9b9a-c886c473337e",
   "metadata": {},
   "source": [
    "On importe la base de données si ce n'est pas déjà fait et on modifie nos données pour qu'elles soient utilisables par la fonction `apprentissage` :"
   ]
  },
  {
   "cell_type": "code",
   "execution_count": 12,
   "id": "869f09d0-2de6-4cff-a00e-b396b26734e9",
   "metadata": {},
   "outputs": [],
   "source": [
    "data = pd.read_csv(path + \"\\Donnees\\complete_database.csv\", index_col=0)"
   ]
  },
  {
   "cell_type": "code",
   "execution_count": 13,
   "id": "fbad0bf8-b5c1-4f87-bf03-c1ad8f4bc539",
   "metadata": {},
   "outputs": [],
   "source": [
    "data_dummy = modifie_dataframe(data)"
   ]
  },
  {
   "cell_type": "markdown",
   "id": "25c7e7a7-6d77-4e8d-8628-f6dacaaa9d1b",
   "metadata": {},
   "source": [
    "On lance les différentes validations croisées sur nos données. Nos modèles seront sauvegardés dans le dossier `Modele`."
   ]
  },
  {
   "cell_type": "code",
   "execution_count": 17,
   "id": "c5c15469-179e-4da4-bf1e-d323891e6ff0",
   "metadata": {},
   "outputs": [
    {
     "data": {
      "text/html": [
       "<pre style=\"white-space:pre;overflow-x:auto;line-height:normal;font-family:Menlo,'DejaVu Sans Mono',consolas,'Courier New',monospace\">Arbre de décision fini.\n",
       "</pre>\n"
      ],
      "text/plain": [
       "Arbre de décision fini.\n"
      ]
     },
     "metadata": {},
     "output_type": "display_data"
    },
    {
     "data": {
      "text/html": [
       "<pre style=\"white-space:pre;overflow-x:auto;line-height:normal;font-family:Menlo,'DejaVu Sans Mono',consolas,'Courier New',monospace\">Bayesien fini.\n",
       "</pre>\n"
      ],
      "text/plain": [
       "Bayesien fini.\n"
      ]
     },
     "metadata": {},
     "output_type": "display_data"
    },
    {
     "data": {
      "text/html": [
       "<pre style=\"white-space:pre;overflow-x:auto;line-height:normal;font-family:Menlo,'DejaVu Sans Mono',consolas,'Courier New',monospace\">DummyClassifier fini.\n",
       "</pre>\n"
      ],
      "text/plain": [
       "DummyClassifier fini.\n"
      ]
     },
     "metadata": {},
     "output_type": "display_data"
    },
    {
     "data": {
      "text/html": [
       "<pre style=\"white-space:pre;overflow-x:auto;line-height:normal;font-family:Menlo,'DejaVu Sans Mono',consolas,'Courier New',monospace\">Forêt aléatoire finie.\n",
       "</pre>\n"
      ],
      "text/plain": [
       "Forêt aléatoire finie.\n"
      ]
     },
     "metadata": {},
     "output_type": "display_data"
    },
    {
     "data": {
      "text/html": [
       "<pre style=\"white-space:pre;overflow-x:auto;line-height:normal;font-family:Menlo,'DejaVu Sans Mono',consolas,'Courier New',monospace\">k-plus proches voisins fini.\n",
       "</pre>\n"
      ],
      "text/plain": [
       "k-plus proches voisins fini.\n"
      ]
     },
     "metadata": {},
     "output_type": "display_data"
    },
    {
     "data": {
      "text/html": [
       "<pre style=\"white-space:pre;overflow-x:auto;line-height:normal;font-family:Menlo,'DejaVu Sans Mono',consolas,'Courier New',monospace\">Réseaux de neurones fini.\n",
       "</pre>\n"
      ],
      "text/plain": [
       "Réseaux de neurones fini.\n"
      ]
     },
     "metadata": {},
     "output_type": "display_data"
    },
    {
     "data": {
      "text/html": [
       "<pre style=\"white-space:pre;overflow-x:auto;line-height:normal;font-family:Menlo,'DejaVu Sans Mono',consolas,'Courier New',monospace\">Support vecteur fini.\n",
       "</pre>\n"
      ],
      "text/plain": [
       "Support vecteur fini.\n"
      ]
     },
     "metadata": {},
     "output_type": "display_data"
    }
   ],
   "source": [
    "resultats_apprentissage = apprentissage_modele(\"config.yaml\", data_dummy)"
   ]
  },
  {
   "cell_type": "markdown",
   "id": "6897cce4-b247-438a-9904-97fc9cc88d15",
   "metadata": {},
   "source": [
    "Pour visualiser les résultats :"
   ]
  },
  {
   "cell_type": "code",
   "execution_count": 15,
   "id": "3c2f3b0e-2988-4710-84a8-38a9791141f8",
   "metadata": {
    "tags": []
   },
   "outputs": [
    {
     "data": {
      "text/html": [
       "<pre style=\"white-space:pre;overflow-x:auto;line-height:normal;font-family:Menlo,'DejaVu Sans Mono',consolas,'Courier New',monospace\">┏━━━━━━━━━━━━━━━━━━━━━━━━┳━━━━━━━━━━┳━━━━━━━━━━━━━━━━┳━━━━━━━━━━━━━━━━━━━━━━━━━━━━━━━━━━━━━━┓\n",
       "┃<span style=\"font-weight: bold\"> Modele                 </span>┃<span style=\"font-weight: bold\"> Score    </span>┃<span style=\"font-weight: bold\"> Temps          </span>┃<span style=\"font-weight: bold\"> Meilleur choix de Paramètres         </span>┃\n",
       "┡━━━━━━━━━━━━━━━━━━━━━━━━╇━━━━━━━━━━╇━━━━━━━━━━━━━━━━╇━━━━━━━━━━━━━━━━━━━━━━━━━━━━━━━━━━━━━━┩\n",
       "│ DummyClassifier        │ 0.1065   │ 0.0016 minutes │                                      │\n",
       "│ SVC                    │ 0.16881  │ 0.2581 minutes │ C=5.0                                │\n",
       "│ MultinomialNB          │ 0.3637   │ 0.0045 minutes │ alpha=0.001                          │\n",
       "│ MLPClassifier          │ 0.52288  │ 3.9902 minutes │ alpha=0.001,                         │\n",
       "│                        │          │                │ hidden_layer_sizes=[100],            │\n",
       "│                        │          │                │ max_iter=10000                       │\n",
       "│ DecisionTreeClassifier │ 0.61608  │ 0.0543 minutes │ max_depth=5, max_leaf_nodes=6        │\n",
       "│ KNeighborsClassifier   │ 0.77636  │ 0.098 minutes  │ n_neighbors=1                        │\n",
       "│ RandomForestClassifier │ 0.85676  │ 1.1033 minutes │ max_depth=25, n_estimators=400       │\n",
       "└────────────────────────┴──────────┴────────────────┴──────────────────────────────────────┘\n",
       "</pre>\n"
      ],
      "text/plain": [
       "┏━━━━━━━━━━━━━━━━━━━━━━━━┳━━━━━━━━━━┳━━━━━━━━━━━━━━━━┳━━━━━━━━━━━━━━━━━━━━━━━━━━━━━━━━━━━━━━┓\n",
       "┃\u001b[1m \u001b[0m\u001b[1mModele                \u001b[0m\u001b[1m \u001b[0m┃\u001b[1m \u001b[0m\u001b[1mScore   \u001b[0m\u001b[1m \u001b[0m┃\u001b[1m \u001b[0m\u001b[1mTemps         \u001b[0m\u001b[1m \u001b[0m┃\u001b[1m \u001b[0m\u001b[1mMeilleur choix de Paramètres        \u001b[0m\u001b[1m \u001b[0m┃\n",
       "┡━━━━━━━━━━━━━━━━━━━━━━━━╇━━━━━━━━━━╇━━━━━━━━━━━━━━━━╇━━━━━━━━━━━━━━━━━━━━━━━━━━━━━━━━━━━━━━┩\n",
       "│ DummyClassifier        │ 0.1065   │ 0.0016 minutes │                                      │\n",
       "│ SVC                    │ 0.16881  │ 0.2581 minutes │ C=5.0                                │\n",
       "│ MultinomialNB          │ 0.3637   │ 0.0045 minutes │ alpha=0.001                          │\n",
       "│ MLPClassifier          │ 0.52288  │ 3.9902 minutes │ alpha=0.001,                         │\n",
       "│                        │          │                │ hidden_layer_sizes=[100],            │\n",
       "│                        │          │                │ max_iter=10000                       │\n",
       "│ DecisionTreeClassifier │ 0.61608  │ 0.0543 minutes │ max_depth=5, max_leaf_nodes=6        │\n",
       "│ KNeighborsClassifier   │ 0.77636  │ 0.098 minutes  │ n_neighbors=1                        │\n",
       "│ RandomForestClassifier │ 0.85676  │ 1.1033 minutes │ max_depth=25, n_estimators=400       │\n",
       "└────────────────────────┴──────────┴────────────────┴──────────────────────────────────────┘\n"
      ]
     },
     "metadata": {},
     "output_type": "display_data"
    }
   ],
   "source": [
    "visualisation_apprentissage(resultats_apprentissage)"
   ]
  },
  {
   "cell_type": "markdown",
   "id": "22b35a80-e1bf-4a8f-bac7-73ff2ff2c128",
   "metadata": {},
   "source": [
    "Ici, il semblerait que notre meilleur modèle soit la forêt aléatoire. Ce modèle sera utilisé sur les données test afin de définir lequel est le meilleur."
   ]
  },
  {
   "cell_type": "markdown",
   "id": "c028b89c-aec0-45bf-b040-e89eaeb9640b",
   "metadata": {},
   "source": [
    "### Sauvegarder et lire les résultats de l'apprentissage\n",
    "\n",
    "Sauvegarder les résultats :"
   ]
  },
  {
   "cell_type": "code",
   "execution_count": 24,
   "id": "84498f29-f492-495d-888a-ce47bf28f62b",
   "metadata": {},
   "outputs": [],
   "source": [
    "with open(path + \"\\Resultats_apprentissage.pkl\", \"wb\") as fichier_modele:\n",
    "    pickle.dump(resultats_apprentissage, fichier_modele)"
   ]
  },
  {
   "cell_type": "markdown",
   "id": "eabd4221-438b-49b5-9fdc-ac802a652ddd",
   "metadata": {},
   "source": [
    "Lire les résultats :"
   ]
  },
  {
   "cell_type": "code",
   "execution_count": 14,
   "id": "ec6c46a9-fe92-44f6-8935-d279056f75bf",
   "metadata": {},
   "outputs": [],
   "source": [
    "with open(path + \"\\Resultats_apprentissage.pkl\", \"rb\") as fichier_modele:\n",
    "    resultats_apprentissage = pickle.load(fichier_modele)"
   ]
  },
  {
   "cell_type": "markdown",
   "id": "a7e31efc-2f02-4c0d-8eff-1bb1cfeda9fc",
   "metadata": {},
   "source": [
    "## Test"
   ]
  },
  {
   "cell_type": "markdown",
   "id": "1c48ba3f-f814-4257-8c55-2fd3ad5cbe3d",
   "metadata": {},
   "source": [
    "On importe les fonctions essentielles afin de comparer sur les données test nos modèles :"
   ]
  },
  {
   "cell_type": "code",
   "execution_count": 16,
   "id": "f6318888-9241-4109-b3ea-c16b2bda26a5",
   "metadata": {},
   "outputs": [],
   "source": [
    "from Machine_learning import (\n",
    "    teste_precision_modele, matrice_confusion_donnees_test\n",
    ")"
   ]
  },
  {
   "cell_type": "markdown",
   "id": "40360ec0-289a-49b2-a909-e85c66e017e2",
   "metadata": {},
   "source": [
    "On récupère le meilleur modèle sauvegardé :"
   ]
  },
  {
   "cell_type": "code",
   "execution_count": 17,
   "id": "9f31651d-eb90-4b63-8caa-0c154ac9643b",
   "metadata": {},
   "outputs": [],
   "source": [
    "with open(path + \"\\Modele\\Foret_aleatoire.pkl\", \"rb\") as fichier_modele:\n",
    "    foret_aleatoire = pickle.load(fichier_modele)"
   ]
  },
  {
   "cell_type": "markdown",
   "id": "cb06a8ec-46f6-4e3c-9edb-4d7742027890",
   "metadata": {},
   "source": [
    "On teste la précision de nos modèles sur les données tests :"
   ]
  },
  {
   "cell_type": "code",
   "execution_count": 18,
   "id": "528a429b-5dc3-4996-b270-4824af3e0191",
   "metadata": {},
   "outputs": [],
   "source": [
    "prediction = teste_precision_modele(data_dummy, foret_aleatoire)"
   ]
  },
  {
   "cell_type": "code",
   "execution_count": 19,
   "id": "c57b8c01-00e6-47cd-a663-2e69549b0c95",
   "metadata": {},
   "outputs": [
    {
     "data": {
      "text/plain": [
       "{RandomForestClassifier(max_depth=25, n_estimators=400): 0.854632587859425}"
      ]
     },
     "execution_count": 19,
     "metadata": {},
     "output_type": "execute_result"
    }
   ],
   "source": [
    "prediction"
   ]
  },
  {
   "cell_type": "markdown",
   "id": "a0eb577a-991c-4169-bd35-00d9fe420d80",
   "metadata": {},
   "source": [
    "Il n'y a pas de surapprentissage sur la forêt aléatoire. J'ai donc décidé de garder ce modèle. La matrice de confusion est la suivante :"
   ]
  },
  {
   "cell_type": "code",
   "execution_count": 20,
   "id": "69de19c2-57e2-4478-8926-3fbc3ff77ce4",
   "metadata": {},
   "outputs": [
    {
     "name": "stdout",
     "output_type": "stream",
     "text": [
      "[[52  5  0  0  0  0  0  0  0  0]\n",
      " [ 4 42  2  0  0  2  0  0  0  0]\n",
      " [ 2  6 54  4  0  0  0  0  0  0]\n",
      " [ 1  0 13 44  7  0  0  0  0  0]\n",
      " [ 0  0  4  6 53  0  5  0  0  0]\n",
      " [ 0  2  2  0  0 62  0  0  0  1]\n",
      " [ 0  0  0  1  7  0 65  6  0  0]\n",
      " [ 0  0  0  1  1  0  3 45  0  0]\n",
      " [ 0  1  0  0  0  0  0  3 61  0]\n",
      " [ 0  0  0  0  0  0  0  0  2 57]]\n"
     ]
    }
   ],
   "source": [
    "print(matrice_confusion_donnees_test(data_dummy, foret_aleatoire))"
   ]
  },
  {
   "cell_type": "markdown",
   "id": "45d7566b-c027-4fc0-9870-61bd4cae0e0d",
   "metadata": {},
   "source": [
    "Nous pouvons remarquer que la majorité des valeurs semblent bien prédites et ce, pour toutes les classes."
   ]
  },
  {
   "cell_type": "markdown",
   "id": "b61c7813-f3ec-4b35-8579-917596ff4b87",
   "metadata": {},
   "source": [
    "## Modèle final\n",
    "\n",
    "Une fois le meilleur modèle trouvé, nous l'appliquons aux données d'entrainement afin de pouvoir l'utiliser sur d'autres jeux de données."
   ]
  },
  {
   "cell_type": "code",
   "execution_count": 21,
   "id": "d3299896-815e-4385-a13f-2d15c62cc35a",
   "metadata": {},
   "outputs": [],
   "source": [
    "from Machine_learning import renvoie_echantillons_test_train"
   ]
  },
  {
   "cell_type": "code",
   "execution_count": 22,
   "id": "7833c59b-cacf-4397-b5ad-ed2efc3452f5",
   "metadata": {},
   "outputs": [],
   "source": [
    "from sklearn.ensemble import RandomForestClassifier"
   ]
  },
  {
   "cell_type": "code",
   "execution_count": 23,
   "id": "2e4c05d1-cdc5-426b-9064-2eeb8add8b0d",
   "metadata": {},
   "outputs": [],
   "source": [
    "modele = RandomForestClassifier(n_estimators=400, max_depth=25)"
   ]
  },
  {
   "cell_type": "code",
   "execution_count": 27,
   "id": "c834635e-0f35-45d1-a048-c0b85856db80",
   "metadata": {},
   "outputs": [],
   "source": [
    "X_tr, _, y_tr, _ = renvoie_echantillons_test_train(data_dummy)"
   ]
  },
  {
   "cell_type": "code",
   "execution_count": 25,
   "id": "ecb87439-a94a-4d68-8b83-ff5589f5c1b8",
   "metadata": {},
   "outputs": [],
   "source": [
    "modele_final = modele.fit(X_tr, y_tr)"
   ]
  },
  {
   "cell_type": "code",
   "execution_count": 26,
   "id": "c6abd9e1-927e-4cb5-b00c-18fdc14bbfa4",
   "metadata": {},
   "outputs": [],
   "source": [
    "with open(path + \"\\Modele\\Modele_final.pkl\", \"wb\") as fichier_modele:\n",
    "    pickle.dump(modele_final, fichier_modele)"
   ]
  },
  {
   "cell_type": "markdown",
   "id": "6b848962-bbf5-46bd-b17e-4a1265d137fe",
   "metadata": {},
   "source": [
    "# Et ensuite ?\n",
    "\n",
    "Maintenant que nous avons déterminer notre meilleur modèle et qu'il a été appliqué à toutes les données, il faudrait refaire une phase de scraping afin de faire ressortir les annonces ayant un prix prédit strictement inférieur à la réalité.\n",
    "\n",
    "Pour cela, il faudrait prédire les prix en utilisant les nouvelles données scrapées et comparer les valeurs prédites aux valeurs observées. Si le prix observé est strictement inférieur à l'intervalle prédit, dans ce cas, cette annonce a de fortes chances d'être une bonne affaire pour le consommateur."
   ]
  }
 ],
 "metadata": {
  "kernelspec": {
   "display_name": "Python 3",
   "language": "python",
   "name": "python3"
  },
  "language_info": {
   "codemirror_mode": {
    "name": "ipython",
    "version": 3
   },
   "file_extension": ".py",
   "mimetype": "text/x-python",
   "name": "python",
   "nbconvert_exporter": "python",
   "pygments_lexer": "ipython3",
   "version": "3.8.8"
  },
  "toc-autonumbering": true
 },
 "nbformat": 4,
 "nbformat_minor": 5
}
